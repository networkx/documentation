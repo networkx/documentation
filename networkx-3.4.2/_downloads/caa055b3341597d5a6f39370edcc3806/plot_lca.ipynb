{
  "cells": [
    {
      "cell_type": "markdown",
      "metadata": {},
      "source": [
        "\n# Lowest Common Ancestors\n\nCompute and visualize LCA for node pairs\n\nIn a randomly generated directed tree, the lowest common\nancestors are computed for certain node pairs. These node\npairs and their LCA are then visualized with a chosen\ncolor scheme.\n"
      ]
    },
    {
      "cell_type": "code",
      "execution_count": null,
      "metadata": {
        "collapsed": false
      },
      "outputs": [],
      "source": [
        "import networkx as nx\nimport matplotlib.pyplot as plt\n\nG = nx.DiGraph(\n    [\n        (0, 2),\n        (2, 7),\n        (2, 11),\n        (5, 6),\n        (6, 9),\n        (6, 8),\n        (7, 1),\n        (7, 3),\n        (8, 12),\n        (11, 10),\n        (11, 5),\n        (12, 4),\n        (12, 13),\n    ]\n)\npos = nx.nx_agraph.graphviz_layout(G, prog=\"dot\")\n\n# Compute lowest-common ancestors for certain node pairs\nancestors = list(nx.all_pairs_lowest_common_ancestor(G, ((1, 3), (4, 9), (13, 10))))\n\n# Create node color and edge color lists\nnode_colors = [\"#D5D7D8\" for _ in G]\nnode_edge_colors = [\"None\" for _ in G]\nnode_seq = list(G.nodes)\nclr_pairs = ((\"cyan\", \"tab:blue\"), (\"moccasin\", \"tab:orange\"), (\"lime\", \"tab:green\"))\nfor (children, ancestor), (child_clr, anc_clr) in zip(ancestors, clr_pairs):\n    for c in children:\n        node_colors[node_seq.index(c)] = child_clr\n    node_colors[node_seq.index(ancestor)] = anc_clr\n    node_edge_colors[node_seq.index(ancestor)] = \"black\"\n\n# Plot tree\nplt.figure(figsize=(15, 15))\nplt.title(\"Visualize Lowest Common Ancestors of node pairs\")\nnx.draw_networkx_nodes(\n    G, pos, node_color=node_colors, node_size=2000, edgecolors=node_edge_colors\n)\nnx.draw_networkx_edges(G, pos)\nnx.draw_networkx_labels(G, pos, font_size=15)\nplt.show()"
      ]
    }
  ],
  "metadata": {
    "kernelspec": {
      "display_name": "Python 3",
      "language": "python",
      "name": "python3"
    },
    "language_info": {
      "codemirror_mode": {
        "name": "ipython",
        "version": 3
      },
      "file_extension": ".py",
      "mimetype": "text/x-python",
      "name": "python",
      "nbconvert_exporter": "python",
      "pygments_lexer": "ipython3",
      "version": "3.11.10"
    }
  },
  "nbformat": 4,
  "nbformat_minor": 0
}