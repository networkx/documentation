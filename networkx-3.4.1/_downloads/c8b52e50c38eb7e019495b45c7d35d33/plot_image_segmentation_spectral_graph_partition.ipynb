{
  "cells": [
    {
      "cell_type": "markdown",
      "metadata": {},
      "source": [
        "\n# Image Segmentation via Spectral Graph Partitioning\n\nExample of partitioning a undirected graph obtained by ``k-neighbors``\nfrom an RGB image into two subgraphs using spectral clustering\nillustrated by 3D plots of the original labeled data points in RGB 3D space\nvs the bi-partition marking performed by graph partitioning via spectral clustering.\nAll 3D plots use the 3D spectral layout.\n\nSee `sphx_glr_auto_examples_3d_drawing` for recipes to create 3D animations\nfrom these visualizations.\n"
      ]
    },
    {
      "cell_type": "code",
      "execution_count": null,
      "metadata": {
        "collapsed": false
      },
      "outputs": [],
      "source": [
        "import numpy as np\nimport networkx as nx\nimport matplotlib.pyplot as plt\nfrom matplotlib import animation\nfrom matplotlib.lines import Line2D\nfrom sklearn.cluster import SpectralClustering\n\n# sphinx_gallery_thumbnail_number = 3"
      ]
    },
    {
      "cell_type": "markdown",
      "metadata": {},
      "source": [
        "## Create an example 3D dataset \"The Rings\".\nThe dataset is made of two entangled noisy rings in 3D.\n\n"
      ]
    },
    {
      "cell_type": "code",
      "execution_count": null,
      "metadata": {
        "collapsed": false
      },
      "outputs": [],
      "source": [
        "np.random.seed(0)\nN_SAMPLES = 128\nX = np.random.random((N_SAMPLES, 3)) * 5e-1\nm = int(np.round(N_SAMPLES / 2))\ntheta = np.linspace(0, 2 * np.pi, m)\nX[0:m, 0] += 2 * np.cos(theta)\nX[0:m, 1] += 3 * np.sin(theta) + 1\nX[0:m, 2] += np.sin(theta) + 0.5\nX[m:, 0] += 2 * np.sin(theta)\nX[m:, 1] += 2 * np.cos(theta) - 1\nX[m:, 2] += 3 * np.sin(theta)\nY = np.zeros(N_SAMPLES, dtype=np.int8)\nY[m:] = np.ones(m, dtype=np.int8)\n\n# map X to int8 for 8-bit RGB interpretation for drawing\nfor i in np.arange(X.shape[1]):\n    x = X[:, i]\n    min_x = np.min(x)\n    max_x = np.max(x)\n    X[:, i] = np.round(255 * (x - min_x) / (max_x - min_x))"
      ]
    },
    {
      "cell_type": "markdown",
      "metadata": {},
      "source": [
        "## Plot the RGB dataset as an image.\nEach of the 128 3D data points can be treated as RGB values of a pixel.\nWe illustrate the dataset plotting it as an image with 8x16 pixels,\nwith the pixels randomly placed in the 8x16 grid.\nThe fine structure in the data is not visually detectable in the image.\n\n"
      ]
    },
    {
      "cell_type": "code",
      "execution_count": null,
      "metadata": {
        "collapsed": false
      },
      "outputs": [],
      "source": [
        "perm = np.random.permutation(X.shape[0])\nrgb_array = X[perm, :].reshape(8, 16, 3).astype(int)\nfig, ax = plt.subplots()\nax.matshow(rgb_array)\nplt.show()"
      ]
    },
    {
      "cell_type": "markdown",
      "metadata": {},
      "source": [
        "## Generate the graph and determine the two clusters.\nThe graph is constructed using the \"nearest_neighbors\" and the two clusters\nare determined by spectral clustering/graph partitioning.\n\n"
      ]
    },
    {
      "cell_type": "code",
      "execution_count": null,
      "metadata": {
        "collapsed": false
      },
      "outputs": [],
      "source": [
        "NUM_CLUSTERS = 2\nsc = SpectralClustering(\n    n_clusters=NUM_CLUSTERS,\n    affinity=\"nearest_neighbors\",\n    random_state=4242,\n    n_neighbors=10,\n    assign_labels=\"cluster_qr\",\n    n_jobs=-1,\n)\nclusters = sc.fit(X)\ncluster_affinity_matrix = clusters.affinity_matrix_.getH()\n\npred_labels = clusters.labels_.astype(int)\nG = nx.from_scipy_sparse_array(cluster_affinity_matrix)\n# remove self edges\nG.remove_edges_from(nx.selfloop_edges(G))\n\ncluser_member = []\nfor u in G.nodes:\n    cluser_member.append(pred_labels[u])"
      ]
    },
    {
      "cell_type": "markdown",
      "metadata": {},
      "source": [
        "## Generate the plots of the data.\nThe data points are marked according to the original labels (left panel)\nand via clustering (right panel).\n\n"
      ]
    },
    {
      "cell_type": "code",
      "execution_count": null,
      "metadata": {
        "collapsed": false
      },
      "outputs": [],
      "source": [
        "def _scatter_plot(ax, X, array_of_markers, axis_plot=True):\n    # `marker` parameter does not support list or array format, needs a loop\n    for i, marker in enumerate(array_of_markers):\n        ax.scatter(\n            X[i, 0],\n            X[i, 1],\n            X[i, 2],\n            s=26,\n            marker=marker,\n            alpha=0.8,\n            color=tuple(X[i] / 255),\n        )\n    if axis_plot == True:\n        ax.set_xlabel(\"Red\")\n        ax.set_ylabel(\"Green\")\n        ax.set_zlabel(\"Blue\")\n    else:\n        ax.set_axis_off()\n    ax.grid(False)\n    ax.view_init(elev=6.0, azim=-22.0)\n\n\n# select the second half of the list of markers for better visibility\nlist_of_markers = Line2D.filled_markers[len(Line2D.filled_markers) // 2 :]\n\nfig = plt.figure(figsize=(10, 5))\nfig.suptitle(\"Spectral Clustering as Graph Partitioning Illustrated\", fontsize=20)\n\nax0 = fig.add_subplot(1, 2, 1, projection=\"3d\")\nax0.set_title(\"Original labeled RGB data\")\narray_of_markers = np.array(list_of_markers)[Y.astype(int)]\n_scatter_plot(ax0, X, array_of_markers)\n\nax1 = fig.add_subplot(1, 2, 2, projection=\"3d\")\nax1.set_title(\"Data marked by clustering\")\narray_of_markers = np.array(list_of_markers)[pred_labels.astype(int)]\n_scatter_plot(ax1, X, array_of_markers)\n\nplt.show()"
      ]
    },
    {
      "cell_type": "markdown",
      "metadata": {},
      "source": [
        "## Generate the plots of the graph.\nThe nodes of the graph are marked according to clustering.\n\n"
      ]
    },
    {
      "cell_type": "code",
      "execution_count": null,
      "metadata": {
        "collapsed": false
      },
      "outputs": [],
      "source": [
        "# get affinity matrix from spectral clustering\nweights = [d[\"weight\"] for u, v, d in G.edges(data=True)]\n\nfig = plt.figure(figsize=(10, 5))\nax0 = fig.add_subplot(1, 2, 1)\nax0.set_title(\"Graph of Affinity Matrix by k-neighbors in spectral layout\")\npos = nx.spectral_layout(G)\nnx.draw_networkx(\n    G,\n    pos=pos,\n    alpha=0.5,\n    node_size=50,\n    with_labels=False,\n    ax=ax0,\n    node_color=X / 255,\n    edge_color=\"Grey\",\n)\nplt.box(False)\nax0.grid(False)\nax0.set_axis_off()\n\nax1 = fig.add_subplot(1, 2, 2, projection=\"3d\")\nax1.set_title(\"Partitioned graph by spectral clustering\")\npos = nx.spectral_layout(G, dim=3)\nnodes = np.array([pos[v] for v in G])\nedges = np.array([(pos[u], pos[v]) for u, v in G.edges()])\npoint_size = int(800 / np.sqrt(len(nodes)))\n\n\ndef _3d_graph_plot(ax):\n    for i, marker in enumerate(array_of_markers):\n        ax.scatter(\n            *nodes[i].T,\n            s=point_size,\n            color=tuple(X[i] / 255),\n            marker=marker,\n            alpha=0.5,\n        )\n    for vizedge, weight in zip(edges, weights):\n        ax.plot(*vizedge.T, color=\"tab:gray\", linewidth=weight, alpha=weight)\n    ax.view_init(elev=100.0, azim=-100.0)\n    ax.grid(False)\n    ax.set_axis_off()\n\n\n_3d_graph_plot(ax1)\nplt.tight_layout()\nplt.show()"
      ]
    }
  ],
  "metadata": {
    "kernelspec": {
      "display_name": "Python 3",
      "language": "python",
      "name": "python3"
    },
    "language_info": {
      "codemirror_mode": {
        "name": "ipython",
        "version": 3
      },
      "file_extension": ".py",
      "mimetype": "text/x-python",
      "name": "python",
      "nbconvert_exporter": "python",
      "pygments_lexer": "ipython3",
      "version": "3.11.10"
    }
  },
  "nbformat": 4,
  "nbformat_minor": 0
}