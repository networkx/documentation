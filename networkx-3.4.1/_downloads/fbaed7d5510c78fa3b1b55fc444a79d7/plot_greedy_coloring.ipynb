{
  "cells": [
    {
      "cell_type": "markdown",
      "metadata": {},
      "source": [
        "\n# Greedy Coloring\n\nWe attempt to color a graph using as few colors as possible, where no neighbors\nof a node can have same color as the node itself.\n"
      ]
    },
    {
      "cell_type": "code",
      "execution_count": null,
      "metadata": {
        "collapsed": false
      },
      "outputs": [],
      "source": [
        "import numpy as np\nimport networkx as nx\nimport matplotlib.pyplot as plt\nimport matplotlib.colors as mpl\nfrom matplotlib import animation\n\nG = nx.dodecahedral_graph()\n\n# Apply greedy coloring\ngraph_coloring = nx.greedy_color(G)\nunique_colors = set(graph_coloring.values())\n\n# Assign colors to nodes based on the greedy coloring\ngraph_color_to_mpl_color = dict(zip(unique_colors, mpl.TABLEAU_COLORS))\nnode_colors = [graph_color_to_mpl_color[graph_coloring[n]] for n in G.nodes()]\n\npos = nx.spring_layout(G, seed=14)\nnx.draw(\n    G,\n    pos,\n    with_labels=True,\n    node_size=500,\n    node_color=node_colors,\n    edge_color=\"grey\",\n    font_size=12,\n    font_color=\"#333333\",\n    width=2,\n)\nplt.show()"
      ]
    },
    {
      "cell_type": "markdown",
      "metadata": {},
      "source": [
        "## 3D graph.\n\nThe same graph plotted in 3D.\n\n"
      ]
    },
    {
      "cell_type": "code",
      "execution_count": null,
      "metadata": {
        "collapsed": false
      },
      "outputs": [],
      "source": [
        "pos = nx.spectral_layout(G, dim=3)\nlabels = list(G)\nnodes = np.array([pos[v] for v in G])\nedges = np.array([(pos[u], pos[v]) for u, v in G.edges()])\n\n\ndef init():\n    ax.clear()\n    ax.scatter(*nodes.T, alpha=0.9, s=500, color=node_colors)\n    for vizedge in edges:\n        ax.plot(*vizedge.T, color=\"gray\")\n    ax.grid(False)\n    ax.set_axis_off()\n    for p in pos:\n        ax.text(\n            *pos[p],\n            labels[p],\n            size=14,\n            horizontalalignment=\"center\",\n            verticalalignment=\"center\",\n        )\n\n\nfig = plt.figure(layout=\"tight\")\nax = fig.add_subplot(111, projection=\"3d\")\ninit()\nplt.show()"
      ]
    },
    {
      "cell_type": "markdown",
      "metadata": {},
      "source": [
        "## Rotating 3D graph animation.\n\nRotation of the 3D graph.\n\n"
      ]
    },
    {
      "cell_type": "code",
      "execution_count": null,
      "metadata": {
        "collapsed": false
      },
      "outputs": [],
      "source": [
        "def _frame_update(index):\n    ax.view_init(index * 0.2, index * 0.5)\n\n\nfig = plt.figure(layout=\"tight\")\nax = fig.add_subplot(111, projection=\"3d\")\nax.grid(False)\nax.set_axis_off()\nani = animation.FuncAnimation(\n    fig,\n    _frame_update,\n    init_func=init,\n    interval=50,\n    cache_frame_data=False,\n    frames=100,\n)\n\nplt.show()"
      ]
    }
  ],
  "metadata": {
    "kernelspec": {
      "display_name": "Python 3",
      "language": "python",
      "name": "python3"
    },
    "language_info": {
      "codemirror_mode": {
        "name": "ipython",
        "version": 3
      },
      "file_extension": ".py",
      "mimetype": "text/x-python",
      "name": "python",
      "nbconvert_exporter": "python",
      "pygments_lexer": "ipython3",
      "version": "3.11.10"
    }
  },
  "nbformat": 4,
  "nbformat_minor": 0
}