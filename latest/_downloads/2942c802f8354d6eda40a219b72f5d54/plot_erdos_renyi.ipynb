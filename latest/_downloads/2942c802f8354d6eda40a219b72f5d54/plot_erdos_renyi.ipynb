{
  "cells": [
    {
      "cell_type": "code",
      "execution_count": null,
      "metadata": {
        "collapsed": false
      },
      "outputs": [],
      "source": [
        "%matplotlib inline"
      ]
    },
    {
      "cell_type": "markdown",
      "metadata": {},
      "source": [
        "\n# Erdos Renyi\n\nCreate an G{n,m} random graph with n nodes and m edges\nand report some properties.\n\nThis graph is sometimes called the Erd\u0151s-R\u00e9nyi graph\nbut is different from G{n,p} or binomial_graph which is also\nsometimes called the Erd\u0151s-R\u00e9nyi graph.\n"
      ]
    },
    {
      "cell_type": "code",
      "execution_count": null,
      "metadata": {
        "collapsed": false
      },
      "outputs": [],
      "source": [
        "import matplotlib.pyplot as plt\nimport networkx as nx\n\nn = 10  # 10 nodes\nm = 20  # 20 edges\nseed = 20160  # seed random number generators for reproducibility\n\n# Use seed for reproducibility\nG = nx.gnm_random_graph(n, m, seed=seed)\n\n# some properties\nprint(\"node degree clustering\")\nfor v in nx.nodes(G):\n    print(f\"{v} {nx.degree(G, v)} {nx.clustering(G, v)}\")\n\nprint()\nprint(\"the adjacency list\")\nfor line in nx.generate_adjlist(G):\n    print(line)\n\npos = nx.spring_layout(G, seed=seed)  # Seed for reproducible layout\nnx.draw(G, pos=pos)\nplt.show()"
      ]
    }
  ],
  "metadata": {
    "kernelspec": {
      "display_name": "Python 3",
      "language": "python",
      "name": "python3"
    },
    "language_info": {
      "codemirror_mode": {
        "name": "ipython",
        "version": 3
      },
      "file_extension": ".py",
      "mimetype": "text/x-python",
      "name": "python",
      "nbconvert_exporter": "python",
      "pygments_lexer": "ipython3",
      "version": "3.8.12"
    }
  },
  "nbformat": 4,
  "nbformat_minor": 0
}