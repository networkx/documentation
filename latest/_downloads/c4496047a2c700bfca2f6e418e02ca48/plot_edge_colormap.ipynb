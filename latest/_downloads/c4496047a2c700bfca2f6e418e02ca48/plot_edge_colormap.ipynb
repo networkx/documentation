{
  "cells": [
    {
      "cell_type": "code",
      "execution_count": null,
      "metadata": {
        "collapsed": false
      },
      "outputs": [],
      "source": [
        "%matplotlib inline"
      ]
    },
    {
      "cell_type": "markdown",
      "metadata": {},
      "source": [
        "\n# Edge Colormap\n\nDraw a graph with matplotlib, color edges.\n"
      ]
    },
    {
      "cell_type": "code",
      "execution_count": null,
      "metadata": {
        "collapsed": false
      },
      "outputs": [],
      "source": [
        "import matplotlib.pyplot as plt\nimport networkx as nx\n\nG = nx.star_graph(20)\npos = nx.spring_layout(G, seed=63)  # Seed layout for reproducibility\ncolors = range(20)\noptions = {\n    \"node_color\": \"#A0CBE2\",\n    \"edge_color\": colors,\n    \"width\": 4,\n    \"edge_cmap\": plt.cm.Blues,\n    \"with_labels\": False,\n}\nnx.draw(G, pos, **options)\nplt.show()"
      ]
    }
  ],
  "metadata": {
    "kernelspec": {
      "display_name": "Python 3",
      "language": "python",
      "name": "python3"
    },
    "language_info": {
      "codemirror_mode": {
        "name": "ipython",
        "version": 3
      },
      "file_extension": ".py",
      "mimetype": "text/x-python",
      "name": "python",
      "nbconvert_exporter": "python",
      "pygments_lexer": "ipython3",
      "version": "3.8.12"
    }
  },
  "nbformat": 4,
  "nbformat_minor": 0
}