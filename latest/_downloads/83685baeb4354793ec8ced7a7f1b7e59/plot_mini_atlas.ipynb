{
  "cells": [
    {
      "cell_type": "code",
      "execution_count": null,
      "metadata": {
        "collapsed": false
      },
      "outputs": [],
      "source": [
        "%matplotlib inline"
      ]
    },
    {
      "cell_type": "markdown",
      "metadata": {},
      "source": [
        "\n# Atlas\n\nAn example showing how to write first 20 graphs from the graph atlas as\ngraphviz dot files Gn.dot where n=0,19.\n\nTODO: does nx_agraph.draw support multiple graphs in one png?\n"
      ]
    },
    {
      "cell_type": "code",
      "execution_count": null,
      "metadata": {
        "collapsed": false
      },
      "outputs": [],
      "source": [
        "import networkx as nx\n\natlas = nx.graph_atlas_g()[0:20]\n\nfor G in atlas:\n    print(G)\n    A = nx.nx_agraph.to_agraph(G)\n    A.graph_attr[\"label\"] = G.name\n    # set default node attributes\n    A.node_attr[\"color\"] = \"red\"\n    A.node_attr[\"style\"] = \"filled\"\n    A.node_attr[\"shape\"] = \"circle\"\n    A.write(G.name + \".dot\")\n\n# Draw the 20th graph from the atlas to png\nA.draw(\"A20.png\", prog=\"neato\")"
      ]
    }
  ],
  "metadata": {
    "kernelspec": {
      "display_name": "Python 3",
      "language": "python",
      "name": "python3"
    },
    "language_info": {
      "codemirror_mode": {
        "name": "ipython",
        "version": 3
      },
      "file_extension": ".py",
      "mimetype": "text/x-python",
      "name": "python",
      "nbconvert_exporter": "python",
      "pygments_lexer": "ipython3",
      "version": "3.8.12"
    }
  },
  "nbformat": 4,
  "nbformat_minor": 0
}