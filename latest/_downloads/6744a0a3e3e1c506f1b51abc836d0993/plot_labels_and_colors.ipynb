{
  "cells": [
    {
      "cell_type": "code",
      "execution_count": null,
      "metadata": {
        "collapsed": false
      },
      "outputs": [],
      "source": [
        "%matplotlib inline"
      ]
    },
    {
      "cell_type": "markdown",
      "metadata": {},
      "source": [
        "\n# Labels And Colors\n\nUse `nodelist` and `edgelist` to apply custom coloring and labels to various\ncomponents of a graph.\n"
      ]
    },
    {
      "cell_type": "code",
      "execution_count": null,
      "metadata": {
        "collapsed": false
      },
      "outputs": [],
      "source": [
        "import matplotlib.pyplot as plt\nimport networkx as nx\n\nG = nx.cubical_graph()\npos = nx.spring_layout(G, seed=3113794652)  # positions for all nodes\n\n# nodes\noptions = {\"edgecolors\": \"tab:gray\", \"node_size\": 800, \"alpha\": 0.9}\nnx.draw_networkx_nodes(G, pos, nodelist=[0, 1, 2, 3], node_color=\"tab:red\", **options)\nnx.draw_networkx_nodes(G, pos, nodelist=[4, 5, 6, 7], node_color=\"tab:blue\", **options)\n\n# edges\nnx.draw_networkx_edges(G, pos, width=1.0, alpha=0.5)\nnx.draw_networkx_edges(\n    G,\n    pos,\n    edgelist=[(0, 1), (1, 2), (2, 3), (3, 0)],\n    width=8,\n    alpha=0.5,\n    edge_color=\"tab:red\",\n)\nnx.draw_networkx_edges(\n    G,\n    pos,\n    edgelist=[(4, 5), (5, 6), (6, 7), (7, 4)],\n    width=8,\n    alpha=0.5,\n    edge_color=\"tab:blue\",\n)\n\n\n# some math labels\nlabels = {}\nlabels[0] = r\"$a$\"\nlabels[1] = r\"$b$\"\nlabels[2] = r\"$c$\"\nlabels[3] = r\"$d$\"\nlabels[4] = r\"$\\alpha$\"\nlabels[5] = r\"$\\beta$\"\nlabels[6] = r\"$\\gamma$\"\nlabels[7] = r\"$\\delta$\"\nnx.draw_networkx_labels(G, pos, labels, font_size=22, font_color=\"whitesmoke\")\n\nplt.tight_layout()\nplt.axis(\"off\")\nplt.show()"
      ]
    }
  ],
  "metadata": {
    "kernelspec": {
      "display_name": "Python 3",
      "language": "python",
      "name": "python3"
    },
    "language_info": {
      "codemirror_mode": {
        "name": "ipython",
        "version": 3
      },
      "file_extension": ".py",
      "mimetype": "text/x-python",
      "name": "python",
      "nbconvert_exporter": "python",
      "pygments_lexer": "ipython3",
      "version": "3.8.12"
    }
  },
  "nbformat": 4,
  "nbformat_minor": 0
}