{
  "cells": [
    {
      "cell_type": "markdown",
      "metadata": {},
      "source": [
        "\n# Triads\nAccording to the paper by Snijders, T. (2012). \u201cTransitivity and triads.\u201d\nUniversity of Oxford, there are 16 Triad Types possible. This plot shows\nthe 16 Triad Types that can be identified within directed networks.\nTriadic relationships are especially useful when analysing Social Networks.\nThe first three digits refer to the number of mutual, asymmetric and null\ndyads (bidirectional, unidirection and nonedges) and the letter gives\nthe Orientation as Up (U), Down (D) , Cyclical (C) or Transitive (T).\n"
      ]
    },
    {
      "cell_type": "code",
      "execution_count": null,
      "metadata": {
        "collapsed": false
      },
      "outputs": [],
      "source": [
        "import networkx as nx\nimport matplotlib.pyplot as plt\n\nfig, axes = plt.subplots(4, 4, figsize=(10, 10))\ntriads = {\n    \"003\": [],\n    \"012\": [(1, 2)],\n    \"102\": [(1, 2), (2, 1)],\n    \"021D\": [(3, 1), (3, 2)],\n    \"021U\": [(1, 3), (2, 3)],\n    \"021C\": [(1, 3), (3, 2)],\n    \"111D\": [(1, 2), (2, 1), (3, 1)],\n    \"111U\": [(1, 2), (2, 1), (1, 3)],\n    \"030T\": [(1, 2), (3, 2), (1, 3)],\n    \"030C\": [(1, 3), (3, 2), (2, 1)],\n    \"201\": [(1, 2), (2, 1), (3, 1), (1, 3)],\n    \"120D\": [(1, 2), (2, 1), (3, 1), (3, 2)],\n    \"120U\": [(1, 2), (2, 1), (1, 3), (2, 3)],\n    \"120C\": [(1, 2), (2, 1), (1, 3), (3, 2)],\n    \"210\": [(1, 2), (2, 1), (1, 3), (3, 2), (2, 3)],\n    \"300\": [(1, 2), (2, 1), (2, 3), (3, 2), (1, 3), (3, 1)],\n}\n\nfor (title, triad), ax in zip(triads.items(), axes.flatten()):\n    G = nx.DiGraph()\n    G.add_nodes_from([1, 2, 3])\n    G.add_edges_from(triad)\n    nx.draw_networkx(\n        G,\n        ax=ax,\n        with_labels=False,\n        node_color=[\"green\"],\n        node_size=200,\n        arrowsize=20,\n        width=2,\n        pos=nx.planar_layout(G),\n    )\n    ax.set_xlim(val * 1.2 for val in ax.get_xlim())\n    ax.set_ylim(val * 1.2 for val in ax.get_ylim())\n    ax.text(\n        0,\n        0,\n        title,\n        fontsize=15,\n        fontweight=\"extra bold\",\n        horizontalalignment=\"center\",\n        bbox={\"boxstyle\": \"square,pad=0.3\", \"fc\": \"none\"},\n    )\nfig.tight_layout()\nplt.show()"
      ]
    }
  ],
  "metadata": {
    "kernelspec": {
      "display_name": "Python 3",
      "language": "python",
      "name": "python3"
    },
    "language_info": {
      "codemirror_mode": {
        "name": "ipython",
        "version": 3
      },
      "file_extension": ".py",
      "mimetype": "text/x-python",
      "name": "python",
      "nbconvert_exporter": "python",
      "pygments_lexer": "ipython3",
      "version": "3.9.18"
    }
  },
  "nbformat": 4,
  "nbformat_minor": 0
}