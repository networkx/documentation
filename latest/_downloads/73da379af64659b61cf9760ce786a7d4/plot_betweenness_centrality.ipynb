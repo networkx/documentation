{
  "cells": [
    {
      "cell_type": "code",
      "execution_count": null,
      "metadata": {
        "collapsed": false
      },
      "outputs": [],
      "source": [
        "%matplotlib inline"
      ]
    },
    {
      "cell_type": "markdown",
      "metadata": {},
      "source": [
        "\n# Betweeness Centrality\n\nBetweenness centrality measures of positive gene functional associations\nusing WormNet v.3-GS.\n\nData from: https://www.inetbio.org/wormnet/downloadnetwork.php\n"
      ]
    },
    {
      "cell_type": "code",
      "execution_count": null,
      "metadata": {
        "collapsed": false
      },
      "outputs": [],
      "source": [
        "from random import sample\nimport networkx as nx\nimport matplotlib.pyplot as plt\n\n# Gold standard data of positive gene functional associations\n# from https://www.inetbio.org/wormnet/downloadnetwork.php\nG = nx.read_edgelist(\"WormNet.v3.benchmark.txt\")\n\n# remove randomly selected nodes (to make example fast)\nnum_to_remove = int(len(G) / 1.5)\nnodes = sample(list(G.nodes), num_to_remove)\nG.remove_nodes_from(nodes)\n\n# remove low-degree nodes\nlow_degree = [n for n, d in G.degree() if d < 10]\nG.remove_nodes_from(low_degree)\n\n# largest connected component\ncomponents = nx.connected_components(G)\nlargest_component = max(components, key=len)\nH = G.subgraph(largest_component)\n\n# compute centrality\ncentrality = nx.betweenness_centrality(H, k=10, endpoints=True)\n\n# compute community structure\nlpc = nx.community.label_propagation_communities(H)\ncommunity_index = {n: i for i, com in enumerate(lpc) for n in com}\n\n#### draw graph ####\nfig, ax = plt.subplots(figsize=(20, 15))\npos = nx.spring_layout(H, k=0.15, seed=4572321)\nnode_color = [community_index[n] for n in H]\nnode_size = [v * 20000 for v in centrality.values()]\nnx.draw_networkx(\n    H,\n    pos=pos,\n    with_labels=False,\n    node_color=node_color,\n    node_size=node_size,\n    edge_color=\"gainsboro\",\n    alpha=0.4,\n)\n\n# Title/legend\nfont = {\"color\": \"k\", \"fontweight\": \"bold\", \"fontsize\": 20}\nax.set_title(\"Gene functional association network (C. elegans)\", font)\n# Change font color for legend\nfont[\"color\"] = \"r\"\n\nax.text(\n    0.80,\n    0.10,\n    \"node color = community structure\",\n    horizontalalignment=\"center\",\n    transform=ax.transAxes,\n    fontdict=font,\n)\nax.text(\n    0.80,\n    0.06,\n    \"node size = betweeness centrality\",\n    horizontalalignment=\"center\",\n    transform=ax.transAxes,\n    fontdict=font,\n)\n\n# Resize figure for label readibility\nax.margins(0.1, 0.05)\nfig.tight_layout()\nplt.axis(\"off\")\nplt.show()"
      ]
    }
  ],
  "metadata": {
    "kernelspec": {
      "display_name": "Python 3",
      "language": "python",
      "name": "python3"
    },
    "language_info": {
      "codemirror_mode": {
        "name": "ipython",
        "version": 3
      },
      "file_extension": ".py",
      "mimetype": "text/x-python",
      "name": "python",
      "nbconvert_exporter": "python",
      "pygments_lexer": "ipython3",
      "version": "3.8.12"
    }
  },
  "nbformat": 4,
  "nbformat_minor": 0
}