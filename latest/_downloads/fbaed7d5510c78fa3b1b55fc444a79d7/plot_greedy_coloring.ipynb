{
  "cells": [
    {
      "cell_type": "markdown",
      "metadata": {},
      "source": [
        "\n# Greedy Coloring\n\nWe attempt to color a graph using as few colors as possible, where no neighbours\nof a node can have same color as the node itself.\n"
      ]
    },
    {
      "cell_type": "code",
      "execution_count": null,
      "metadata": {
        "collapsed": false
      },
      "outputs": [],
      "source": [
        "import networkx as nx\nimport matplotlib.pyplot as plt\nimport matplotlib.colors as mpl\n\nG = nx.dodecahedral_graph()\n\n# Apply greedy coloring\ngraph_coloring = nx.greedy_color(G)\nunique_colors = set(graph_coloring.values())\n\n# Assign colors to nodes based on the greedy coloring\ngraph_color_to_mpl_color = dict(zip(unique_colors, mpl.TABLEAU_COLORS))\nnode_colors = [graph_color_to_mpl_color[graph_coloring[n]] for n in G.nodes()]\n\npos = nx.spring_layout(G, seed=14)\nnx.draw(\n    G,\n    pos,\n    with_labels=True,\n    node_size=500,\n    node_color=node_colors,\n    edge_color=\"grey\",\n    font_size=12,\n    font_color=\"#333333\",\n    width=2,\n)\nplt.show()"
      ]
    }
  ],
  "metadata": {
    "kernelspec": {
      "display_name": "Python 3",
      "language": "python",
      "name": "python3"
    },
    "language_info": {
      "codemirror_mode": {
        "name": "ipython",
        "version": 3
      },
      "file_extension": ".py",
      "mimetype": "text/x-python",
      "name": "python",
      "nbconvert_exporter": "python",
      "pygments_lexer": "ipython3",
      "version": "3.9.17"
    }
  },
  "nbformat": 4,
  "nbformat_minor": 0
}