{
  "cells": [
    {
      "cell_type": "code",
      "execution_count": null,
      "metadata": {
        "collapsed": false
      },
      "outputs": [],
      "source": [
        "%matplotlib inline"
      ]
    },
    {
      "cell_type": "markdown",
      "metadata": {},
      "source": [
        "\n# Football\n\nLoad football network in GML format and compute some network statistcs.\n\nShows how to download GML graph in a zipped file, unpack it, and load\ninto a NetworkX graph.\n\nRequires Internet connection to download the URL\nhttp://www-personal.umich.edu/~mejn/netdata/football.zip\n"
      ]
    },
    {
      "cell_type": "code",
      "execution_count": null,
      "metadata": {
        "collapsed": false
      },
      "outputs": [],
      "source": [
        "import urllib.request\nimport io\nimport zipfile\n\nimport matplotlib.pyplot as plt\nimport networkx as nx\n\nurl = \"http://www-personal.umich.edu/~mejn/netdata/football.zip\"\n\nsock = urllib.request.urlopen(url)  # open URL\ns = io.BytesIO(sock.read())  # read into BytesIO \"file\"\nsock.close()\n\nzf = zipfile.ZipFile(s)  # zipfile object\ntxt = zf.read(\"football.txt\").decode()  # read info file\ngml = zf.read(\"football.gml\").decode()  # read gml data\n# throw away bogus first line with # from mejn files\ngml = gml.split(\"\\n\")[1:]\nG = nx.parse_gml(gml)  # parse gml data\n\nprint(txt)\n# print degree for each team - number of games\nfor n, d in G.degree():\n    print(f\"{n:20} {d:2}\")\n\noptions = {\"node_color\": \"black\", \"node_size\": 50, \"linewidths\": 0, \"width\": 0.1}\n\npos = nx.spring_layout(G, seed=1969)  # Seed for reproducible layout\nnx.draw(G, pos, **options)\nplt.show()"
      ]
    }
  ],
  "metadata": {
    "kernelspec": {
      "display_name": "Python 3",
      "language": "python",
      "name": "python3"
    },
    "language_info": {
      "codemirror_mode": {
        "name": "ipython",
        "version": 3
      },
      "file_extension": ".py",
      "mimetype": "text/x-python",
      "name": "python",
      "nbconvert_exporter": "python",
      "pygments_lexer": "ipython3",
      "version": "3.8.12"
    }
  },
  "nbformat": 4,
  "nbformat_minor": 0
}