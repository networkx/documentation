{
  "cells": [
    {
      "cell_type": "markdown",
      "metadata": {},
      "source": [
        "\n# Cluster Layout\n\nThis example illustrates how to combine multiple layouts to visualize node\nclusters.\n\nThe approach used here can be generalized to visualize hierarchical clustering\ne.g. clusters-of-clusters of nodes by combining layouts with varying scale\nfactors.\n"
      ]
    },
    {
      "cell_type": "code",
      "execution_count": null,
      "metadata": {
        "collapsed": false
      },
      "outputs": [],
      "source": [
        "import networkx as nx\nimport matplotlib.pyplot as plt\n\nG = nx.davis_southern_women_graph()  # Example graph\ncommunities = nx.community.greedy_modularity_communities(G)\n\n# Compute positions for the node clusters as if they were themselves nodes in a\n# supergraph using a larger scale factor\nsupergraph = nx.cycle_graph(len(communities))\nsuperpos = nx.spring_layout(G, scale=50, seed=429)\n\n# Use the \"supernode\" positions as the center of each node cluster\ncenters = list(superpos.values())\npos = {}\nfor center, comm in zip(centers, communities):\n    pos.update(nx.spring_layout(nx.subgraph(G, comm), center=center, seed=1430))\n\n# Nodes colored by cluster\nfor nodes, clr in zip(communities, (\"tab:blue\", \"tab:orange\", \"tab:green\")):\n    nx.draw_networkx_nodes(G, pos=pos, nodelist=nodes, node_color=clr, node_size=100)\nnx.draw_networkx_edges(G, pos=pos)\n\nplt.tight_layout()\nplt.show()"
      ]
    }
  ],
  "metadata": {
    "kernelspec": {
      "display_name": "Python 3",
      "language": "python",
      "name": "python3"
    },
    "language_info": {
      "codemirror_mode": {
        "name": "ipython",
        "version": 3
      },
      "file_extension": ".py",
      "mimetype": "text/x-python",
      "name": "python",
      "nbconvert_exporter": "python",
      "pygments_lexer": "ipython3",
      "version": "3.11.10"
    }
  },
  "nbformat": 4,
  "nbformat_minor": 0
}