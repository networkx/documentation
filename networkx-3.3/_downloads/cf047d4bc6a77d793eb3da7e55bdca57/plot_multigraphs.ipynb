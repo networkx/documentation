{
  "cells": [
    {
      "cell_type": "markdown",
      "metadata": {},
      "source": [
        "\n# Plotting MultiDiGraph Edges and Labels\n\nThis example shows how to plot edges and labels for a MultiDiGraph class object.\nThe same applies for DiGraph and MultiGraph class objects.\n\n4 Graphs are created, each with different number of edges between 2 nodes.\nThe final graph contains 4 edges in every node pair and 2 self loops per node.\n\nMultiGraph can have unlimited multi-edges that can be drawn\nwith different angles and theoretically node labels can remain visible.\n\nMulti-self-loops can be drawn in 4 directions of the node.\nThe subsequent loops will result in overlaps.\n"
      ]
    },
    {
      "cell_type": "code",
      "execution_count": null,
      "metadata": {
        "collapsed": false
      },
      "outputs": [],
      "source": [
        "import itertools as it\nimport numpy as np\nimport networkx as nx\nimport matplotlib.pyplot as plt\n\n\ndef draw_labeled_multigraph(G, attr_name, ax=None):\n    \"\"\"\n    Length of connectionstyle must be at least that of a maximum number of edges\n    between pair of nodes. This number is maximum one-sided connections\n    for directed graph and maximum total connections for undirected graph.\n    \"\"\"\n    # Works with arc3 and angle3 connectionstyles\n    connectionstyle = [f\"arc3,rad={r}\" for r in it.accumulate([0.15] * 4)]\n    # connectionstyle = [f\"angle3,angleA={r}\" for r in it.accumulate([30] * 4)]\n\n    pos = nx.shell_layout(G)\n    nx.draw_networkx_nodes(G, pos, ax=ax)\n    nx.draw_networkx_labels(G, pos, font_size=20, ax=ax)\n    nx.draw_networkx_edges(\n        G, pos, edge_color=\"grey\", connectionstyle=connectionstyle, ax=ax\n    )\n\n    labels = {\n        tuple(edge): f\"{attr_name}={attrs[attr_name]}\"\n        for *edge, attrs in G.edges(keys=True, data=True)\n    }\n    nx.draw_networkx_edge_labels(\n        G,\n        pos,\n        labels,\n        connectionstyle=connectionstyle,\n        label_pos=0.3,\n        font_color=\"blue\",\n        bbox={\"alpha\": 0},\n        ax=ax,\n    )\n\n\nnodes = \"ABC\"\nprod = list(it.product(nodes, repeat=2))\npair_dict = {f\"Product x {i}\": prod * i for i in range(1, 5)}\n\n\nfig, axes = plt.subplots(2, 2)\nfor (name, pairs), ax in zip(pair_dict.items(), np.ravel(axes)):\n    G = nx.MultiDiGraph()\n    for i, (u, v) in enumerate(pairs):\n        G.add_edge(u, v, w=round(i / 3, 2))\n    draw_labeled_multigraph(G, \"w\", ax)\n    ax.set_title(name)\nfig.tight_layout()\nplt.show()"
      ]
    }
  ],
  "metadata": {
    "kernelspec": {
      "display_name": "Python 3",
      "language": "python",
      "name": "python3"
    },
    "language_info": {
      "codemirror_mode": {
        "name": "ipython",
        "version": 3
      },
      "file_extension": ".py",
      "mimetype": "text/x-python",
      "name": "python",
      "nbconvert_exporter": "python",
      "pygments_lexer": "ipython3",
      "version": "3.11.8"
    }
  },
  "nbformat": 4,
  "nbformat_minor": 0
}