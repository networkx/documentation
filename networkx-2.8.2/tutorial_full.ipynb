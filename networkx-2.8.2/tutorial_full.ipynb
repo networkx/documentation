{
 "cells": [
  {
   "cell_type": "markdown",
   "id": "24387444",
   "metadata": {},
   "source": [
    "## Tutorial\n",
    "\n",
    "This guide can help you start working with NetworkX.\n",
    "\n",
    "### Creating a graph\n",
    "\n",
    "Create an empty graph with no nodes and no edges."
   ]
  },
  {
   "cell_type": "code",
   "execution_count": 1,
   "id": "d9476faf",
   "metadata": {
    "execution": {
     "iopub.execute_input": "2022-05-21T15:39:50.452195Z",
     "iopub.status.busy": "2022-05-21T15:39:50.451929Z",
     "iopub.status.idle": "2022-05-21T15:39:50.522479Z",
     "shell.execute_reply": "2022-05-21T15:39:50.521206Z"
    }
   },
   "outputs": [],
   "source": [
    "import networkx as nx\n",
    "G = nx.Graph()"
   ]
  },
  {
   "cell_type": "markdown",
   "id": "07584f1f",
   "metadata": {},
   "source": [
    "By definition, a `Graph` is a collection of nodes (vertices) along with\n",
    "identified pairs of nodes (called edges, links, etc).  In NetworkX, nodes can\n",
    "be any [hashable](https://docs.python.org/3/glossary.html#term-hashable) object e.g., a text string, an image, an XML object,\n",
    "another Graph, a customized node object, etc.\n",
    "\n",
    "# Nodes\n",
    "\n",
    "The graph `G` can be grown in several ways.  NetworkX includes many\n",
    "graph generator functions and\n",
    "facilities to read and write graphs in many formats.\n",
    "To get started though we’ll look at simple manipulations.  You can add one node\n",
    "at a time,"
   ]
  },
  {
   "cell_type": "code",
   "execution_count": 2,
   "id": "4db1214b",
   "metadata": {
    "execution": {
     "iopub.execute_input": "2022-05-21T15:39:50.526037Z",
     "iopub.status.busy": "2022-05-21T15:39:50.525805Z",
     "iopub.status.idle": "2022-05-21T15:39:50.529083Z",
     "shell.execute_reply": "2022-05-21T15:39:50.528424Z"
    }
   },
   "outputs": [],
   "source": [
    "G.add_node(1)"
   ]
  },
  {
   "cell_type": "markdown",
   "id": "b019f6cc",
   "metadata": {},
   "source": [
    "or add nodes from any [iterable](https://docs.python.org/3/glossary.html#term-iterable) container, such as a list"
   ]
  },
  {
   "cell_type": "code",
   "execution_count": 3,
   "id": "0e0cf5ec",
   "metadata": {
    "execution": {
     "iopub.execute_input": "2022-05-21T15:39:50.532398Z",
     "iopub.status.busy": "2022-05-21T15:39:50.532186Z",
     "iopub.status.idle": "2022-05-21T15:39:50.535129Z",
     "shell.execute_reply": "2022-05-21T15:39:50.534508Z"
    }
   },
   "outputs": [],
   "source": [
    "G.add_nodes_from([2, 3])"
   ]
  },
  {
   "cell_type": "markdown",
   "id": "1a17b91a",
   "metadata": {},
   "source": [
    "You can also add nodes along with node\n",
    "attributes if your container yields 2-tuples of the form\n",
    "`(node, node_attribute_dict)`:\n",
    "\n",
    "```\n",
    ">>> G.add_nodes_from([\n",
    "...     (4, {\"color\": \"red\"}),\n",
    "...     (5, {\"color\": \"green\"}),\n",
    "... ])\n",
    "```\n",
    "\n",
    "Node attributes are discussed further below.\n",
    "\n",
    "Nodes from one graph can be incorporated into another:"
   ]
  },
  {
   "cell_type": "code",
   "execution_count": 4,
   "id": "a2b41c95",
   "metadata": {
    "execution": {
     "iopub.execute_input": "2022-05-21T15:39:50.537948Z",
     "iopub.status.busy": "2022-05-21T15:39:50.537738Z",
     "iopub.status.idle": "2022-05-21T15:39:50.541117Z",
     "shell.execute_reply": "2022-05-21T15:39:50.540476Z"
    }
   },
   "outputs": [],
   "source": [
    "H = nx.path_graph(10)\n",
    "G.add_nodes_from(H)"
   ]
  },
  {
   "cell_type": "markdown",
   "id": "3f4d6ea2",
   "metadata": {},
   "source": [
    "`G` now contains the nodes of `H` as nodes of `G`.\n",
    "In contrast, you could use the graph `H` as a node in `G`."
   ]
  },
  {
   "cell_type": "code",
   "execution_count": 5,
   "id": "a9480398",
   "metadata": {
    "execution": {
     "iopub.execute_input": "2022-05-21T15:39:50.543961Z",
     "iopub.status.busy": "2022-05-21T15:39:50.543741Z",
     "iopub.status.idle": "2022-05-21T15:39:50.546558Z",
     "shell.execute_reply": "2022-05-21T15:39:50.545924Z"
    }
   },
   "outputs": [],
   "source": [
    "G.add_node(H)"
   ]
  },
  {
   "cell_type": "markdown",
   "id": "e1d83d39",
   "metadata": {},
   "source": [
    "The graph `G` now contains `H` as a node.  This flexibility is very powerful as\n",
    "it allows graphs of graphs, graphs of files, graphs of functions and much more.\n",
    "It is worth thinking about how to structure your application so that the nodes\n",
    "are useful entities.  Of course you can always use a unique identifier in `G`\n",
    "and have a separate dictionary keyed by identifier to the node information if\n",
    "you prefer.\n",
    "\n",
    "# Edges\n",
    "\n",
    "`G` can also be grown by adding one edge at a time,"
   ]
  },
  {
   "cell_type": "code",
   "execution_count": 6,
   "id": "2f3023b4",
   "metadata": {
    "execution": {
     "iopub.execute_input": "2022-05-21T15:39:50.549380Z",
     "iopub.status.busy": "2022-05-21T15:39:50.549163Z",
     "iopub.status.idle": "2022-05-21T15:39:50.552285Z",
     "shell.execute_reply": "2022-05-21T15:39:50.551654Z"
    }
   },
   "outputs": [],
   "source": [
    "G.add_edge(1, 2)\n",
    "e = (2, 3)\n",
    "G.add_edge(*e)  # unpack edge tuple*"
   ]
  },
  {
   "cell_type": "markdown",
   "id": "2977dc41",
   "metadata": {},
   "source": [
    "by adding a list of edges,"
   ]
  },
  {
   "cell_type": "code",
   "execution_count": 7,
   "id": "9be6a092",
   "metadata": {
    "execution": {
     "iopub.execute_input": "2022-05-21T15:39:50.555097Z",
     "iopub.status.busy": "2022-05-21T15:39:50.554887Z",
     "iopub.status.idle": "2022-05-21T15:39:50.557881Z",
     "shell.execute_reply": "2022-05-21T15:39:50.557237Z"
    }
   },
   "outputs": [],
   "source": [
    "G.add_edges_from([(1, 2), (1, 3)])"
   ]
  },
  {
   "cell_type": "markdown",
   "id": "c7a35afe",
   "metadata": {},
   "source": [
    "or by adding any ebunch of edges.  An *ebunch* is any iterable\n",
    "container of edge-tuples.  An edge-tuple can be a 2-tuple of nodes or a 3-tuple\n",
    "with 2 nodes followed by an edge attribute dictionary, e.g.,\n",
    "`(2, 3, {'weight': 3.1415})`.  Edge attributes are discussed further\n",
    "below."
   ]
  },
  {
   "cell_type": "code",
   "execution_count": 8,
   "id": "b6454582",
   "metadata": {
    "execution": {
     "iopub.execute_input": "2022-05-21T15:39:50.560926Z",
     "iopub.status.busy": "2022-05-21T15:39:50.560711Z",
     "iopub.status.idle": "2022-05-21T15:39:50.563635Z",
     "shell.execute_reply": "2022-05-21T15:39:50.562991Z"
    }
   },
   "outputs": [],
   "source": [
    "G.add_edges_from(H.edges)"
   ]
  },
  {
   "cell_type": "markdown",
   "id": "af52bd2c",
   "metadata": {},
   "source": [
    "There are no complaints when adding existing nodes or edges. For example,\n",
    "after removing all nodes and edges,"
   ]
  },
  {
   "cell_type": "code",
   "execution_count": 9,
   "id": "fb01a751",
   "metadata": {
    "execution": {
     "iopub.execute_input": "2022-05-21T15:39:50.566427Z",
     "iopub.status.busy": "2022-05-21T15:39:50.566216Z",
     "iopub.status.idle": "2022-05-21T15:39:50.569010Z",
     "shell.execute_reply": "2022-05-21T15:39:50.568378Z"
    }
   },
   "outputs": [],
   "source": [
    "G.clear()"
   ]
  },
  {
   "cell_type": "markdown",
   "id": "c6c5b62a",
   "metadata": {},
   "source": [
    "we add new nodes/edges and NetworkX quietly ignores any that are\n",
    "already present."
   ]
  },
  {
   "cell_type": "code",
   "execution_count": 10,
   "id": "7f3e5433",
   "metadata": {
    "execution": {
     "iopub.execute_input": "2022-05-21T15:39:50.571825Z",
     "iopub.status.busy": "2022-05-21T15:39:50.571613Z",
     "iopub.status.idle": "2022-05-21T15:39:50.575283Z",
     "shell.execute_reply": "2022-05-21T15:39:50.574657Z"
    }
   },
   "outputs": [],
   "source": [
    "G.add_edges_from([(1, 2), (1, 3)])\n",
    "G.add_node(1)\n",
    "G.add_edge(1, 2)\n",
    "G.add_node(\"spam\")        # adds node \"spam\"\n",
    "G.add_nodes_from(\"spam\")  # adds 4 nodes: 's', 'p', 'a', 'm'\n",
    "G.add_edge(3, 'm')"
   ]
  },
  {
   "cell_type": "markdown",
   "id": "d0fbd9db",
   "metadata": {},
   "source": [
    "At this stage the graph `G` consists of 8 nodes and 3 edges, as can be seen by:"
   ]
  },
  {
   "cell_type": "code",
   "execution_count": 11,
   "id": "7b30544a",
   "metadata": {
    "execution": {
     "iopub.execute_input": "2022-05-21T15:39:50.578168Z",
     "iopub.status.busy": "2022-05-21T15:39:50.577820Z",
     "iopub.status.idle": "2022-05-21T15:39:50.663662Z",
     "shell.execute_reply": "2022-05-21T15:39:50.663128Z"
    }
   },
   "outputs": [
    {
     "data": {
      "text/plain": [
       "3"
      ]
     },
     "execution_count": 11,
     "metadata": {},
     "output_type": "execute_result"
    }
   ],
   "source": [
    "G.number_of_nodes()\n",
    "G.number_of_edges()"
   ]
  },
  {
   "cell_type": "code",
   "execution_count": 12,
   "id": "c965ac3d",
   "metadata": {
    "execution": {
     "iopub.execute_input": "2022-05-21T15:39:50.666644Z",
     "iopub.status.busy": "2022-05-21T15:39:50.666111Z",
     "iopub.status.idle": "2022-05-21T15:39:50.670471Z",
     "shell.execute_reply": "2022-05-21T15:39:50.669955Z"
    }
   },
   "outputs": [],
   "source": [
    "DG = nx.DiGraph()\n",
    "DG.add_edge(2, 1)   # adds the nodes in order 2, 1\n",
    "DG.add_edge(1, 3)\n",
    "DG.add_edge(2, 4)\n",
    "DG.add_edge(1, 2)\n",
    "assert list(DG.successors(2)) == [1, 4]\n",
    "assert list(DG.edges) == [(2, 1), (2, 4), (1, 3), (1, 2)]"
   ]
  },
  {
   "cell_type": "markdown",
   "id": "cf0ffe5b",
   "metadata": {},
   "source": [
    "# Examining elements of a graph\n",
    "\n",
    "We can examine the nodes and edges. Four basic graph properties facilitate\n",
    "reporting: `G.nodes`, `G.edges`, `G.adj` and `G.degree`.  These\n",
    "are set-like views of the nodes, edges, neighbors (adjacencies), and degrees\n",
    "of nodes in a graph. They offer a continually updated read-only view into\n",
    "the graph structure. They are also dict-like in that you can look up node\n",
    "and edge data attributes via the views and iterate with data attributes\n",
    "using methods `.items()`, `.data()`.\n",
    "If you want a specific container type instead of a view, you can specify one.\n",
    "Here we use lists, though sets, dicts, tuples and other containers may be\n",
    "better in other contexts."
   ]
  },
  {
   "cell_type": "code",
   "execution_count": 13,
   "id": "805d7af2",
   "metadata": {
    "execution": {
     "iopub.execute_input": "2022-05-21T15:39:50.673158Z",
     "iopub.status.busy": "2022-05-21T15:39:50.672743Z",
     "iopub.status.idle": "2022-05-21T15:39:50.677209Z",
     "shell.execute_reply": "2022-05-21T15:39:50.676728Z"
    }
   },
   "outputs": [
    {
     "data": {
      "text/plain": [
       "2"
      ]
     },
     "execution_count": 13,
     "metadata": {},
     "output_type": "execute_result"
    }
   ],
   "source": [
    "list(G.nodes)\n",
    "list(G.edges)\n",
    "list(G.adj[1])  # or list(G.neighbors(1))\n",
    "G.degree[1]  # the number of edges incident to 1"
   ]
  },
  {
   "cell_type": "markdown",
   "id": "2b521bdf",
   "metadata": {},
   "source": [
    "One can specify to report the edges and degree from a subset of all nodes\n",
    "using an nbunch. An *nbunch* is any of: `None` (meaning all nodes),\n",
    "a node, or an iterable container of nodes that is not itself a node in the\n",
    "graph."
   ]
  },
  {
   "cell_type": "code",
   "execution_count": 14,
   "id": "55ea5b49",
   "metadata": {
    "execution": {
     "iopub.execute_input": "2022-05-21T15:39:50.679805Z",
     "iopub.status.busy": "2022-05-21T15:39:50.679362Z",
     "iopub.status.idle": "2022-05-21T15:39:50.685964Z",
     "shell.execute_reply": "2022-05-21T15:39:50.685481Z"
    }
   },
   "outputs": [
    {
     "data": {
      "text/plain": [
       "DegreeView({2: 1, 3: 2})"
      ]
     },
     "execution_count": 14,
     "metadata": {},
     "output_type": "execute_result"
    }
   ],
   "source": [
    "G.edges([2, 'm'])\n",
    "G.degree([2, 3])"
   ]
  },
  {
   "cell_type": "markdown",
   "id": "1cd8d2c0",
   "metadata": {},
   "source": [
    "# Removing elements from a graph\n",
    "\n",
    "One can remove nodes and edges from the graph in a similar fashion to adding.\n",
    "Use methods\n",
    "`Graph.remove_node()`,\n",
    "`Graph.remove_nodes_from()`,\n",
    "`Graph.remove_edge()`\n",
    "and\n",
    "`Graph.remove_edges_from()`, e.g."
   ]
  },
  {
   "cell_type": "code",
   "execution_count": 15,
   "id": "b11053b3",
   "metadata": {
    "execution": {
     "iopub.execute_input": "2022-05-21T15:39:50.689937Z",
     "iopub.status.busy": "2022-05-21T15:39:50.688890Z",
     "iopub.status.idle": "2022-05-21T15:39:50.693451Z",
     "shell.execute_reply": "2022-05-21T15:39:50.692864Z"
    }
   },
   "outputs": [],
   "source": [
    "G.remove_node(2)\n",
    "G.remove_nodes_from(\"spam\")\n",
    "list(G.nodes)\n",
    "G.remove_edge(1, 3)"
   ]
  },
  {
   "cell_type": "markdown",
   "id": "cbb57abd",
   "metadata": {},
   "source": [
    "# Using the graph constructors\n",
    "\n",
    "Graph objects do not have to be built up incrementally - data specifying\n",
    "graph structure can be passed directly to the constructors of the various\n",
    "graph classes.\n",
    "When creating a graph structure by instantiating one of the graph\n",
    "classes you can specify data in several formats."
   ]
  },
  {
   "cell_type": "code",
   "execution_count": 16,
   "id": "7fcc11ae",
   "metadata": {
    "execution": {
     "iopub.execute_input": "2022-05-21T15:39:50.696349Z",
     "iopub.status.busy": "2022-05-21T15:39:50.696027Z",
     "iopub.status.idle": "2022-05-21T15:39:50.857613Z",
     "shell.execute_reply": "2022-05-21T15:39:50.856478Z"
    }
   },
   "outputs": [
    {
     "data": {
      "text/plain": [
       "[(0, 1), (0, 2), (1, 2)]"
      ]
     },
     "execution_count": 16,
     "metadata": {},
     "output_type": "execute_result"
    }
   ],
   "source": [
    "G.add_edge(1, 2)\n",
    "H = nx.DiGraph(G)  # create a DiGraph using the connections from G\n",
    "list(H.edges())\n",
    "edgelist = [(0, 1), (1, 2), (2, 3)]\n",
    "H = nx.Graph(edgelist)  # create a graph from an edge list\n",
    "list(H.edges())\n",
    "adjacency_dict = {0: (1, 2), 1: (0, 2), 2: (0, 1)}\n",
    "H = nx.Graph(adjacency_dict)  # create a Graph dict mapping nodes to nbrs\n",
    "list(H.edges())"
   ]
  },
  {
   "cell_type": "markdown",
   "id": "8033a8fa",
   "metadata": {},
   "source": [
    "# What to use as nodes and edges\n",
    "\n",
    "You might notice that nodes and edges are not specified as NetworkX\n",
    "objects.  This leaves you free to use meaningful items as nodes and\n",
    "edges. The most common choices are numbers or strings, but a node can\n",
    "be any hashable object (except `None`), and an edge can be associated\n",
    "with any object `x` using `G.add_edge(n1, n2, object=x)`.\n",
    "\n",
    "As an example, `n1` and `n2` could be protein objects from the RCSB Protein\n",
    "Data Bank, and `x` could refer to an XML record of publications detailing\n",
    "experimental observations of their interaction.\n",
    "\n",
    "We have found this power quite useful, but its abuse\n",
    "can lead to surprising behavior unless one is familiar with Python.\n",
    "If in doubt, consider using `convert_node_labels_to_integers()` to obtain\n",
    "a more traditional graph with integer labels.\n",
    "\n",
    "# Accessing edges and neighbors\n",
    "\n",
    "In addition to the views `Graph.edges`, and `Graph.adj`,\n",
    "access to edges and neighbors is possible using subscript notation."
   ]
  },
  {
   "cell_type": "code",
   "execution_count": 17,
   "id": "f14b52b2",
   "metadata": {
    "execution": {
     "iopub.execute_input": "2022-05-21T15:39:50.860630Z",
     "iopub.status.busy": "2022-05-21T15:39:50.860204Z",
     "iopub.status.idle": "2022-05-21T15:39:50.867465Z",
     "shell.execute_reply": "2022-05-21T15:39:50.866741Z"
    }
   },
   "outputs": [
    {
     "data": {
      "text/plain": [
       "{'color': 'yellow'}"
      ]
     },
     "execution_count": 17,
     "metadata": {},
     "output_type": "execute_result"
    }
   ],
   "source": [
    "G = nx.Graph([(1, 2, {\"color\": \"yellow\"})])\n",
    "G[1]  # same as G.adj[1]\n",
    "G[1][2]\n",
    "G.edges[1, 2]"
   ]
  },
  {
   "cell_type": "markdown",
   "id": "7c41fcbf",
   "metadata": {},
   "source": [
    "You can get/set the attributes of an edge using subscript notation\n",
    "if the edge already exists."
   ]
  },
  {
   "cell_type": "code",
   "execution_count": 18,
   "id": "680b097c",
   "metadata": {
    "execution": {
     "iopub.execute_input": "2022-05-21T15:39:50.870429Z",
     "iopub.status.busy": "2022-05-21T15:39:50.869889Z",
     "iopub.status.idle": "2022-05-21T15:39:50.876659Z",
     "shell.execute_reply": "2022-05-21T15:39:50.875637Z"
    }
   },
   "outputs": [
    {
     "data": {
      "text/plain": [
       "{'color': 'red'}"
      ]
     },
     "execution_count": 18,
     "metadata": {},
     "output_type": "execute_result"
    }
   ],
   "source": [
    "G.add_edge(1, 3)\n",
    "G[1][3]['color'] = \"blue\"\n",
    "G.edges[1, 2]['color'] = \"red\"\n",
    "G.edges[1, 2]"
   ]
  },
  {
   "cell_type": "markdown",
   "id": "e345cb58",
   "metadata": {},
   "source": [
    "Fast examination of all (node, adjacency) pairs is achieved using\n",
    "`G.adjacency()`, or `G.adj.items()`.\n",
    "Note that for undirected graphs, adjacency iteration sees each edge twice."
   ]
  },
  {
   "cell_type": "code",
   "execution_count": 19,
   "id": "89f3a0e2",
   "metadata": {
    "execution": {
     "iopub.execute_input": "2022-05-21T15:39:50.879264Z",
     "iopub.status.busy": "2022-05-21T15:39:50.879045Z",
     "iopub.status.idle": "2022-05-21T15:39:50.885201Z",
     "shell.execute_reply": "2022-05-21T15:39:50.884615Z"
    }
   },
   "outputs": [
    {
     "name": "stdout",
     "output_type": "stream",
     "text": [
      "(1, 2, 0.125)\n",
      "(2, 1, 0.125)\n",
      "(3, 4, 0.375)\n",
      "(4, 3, 0.375)\n"
     ]
    }
   ],
   "source": [
    "FG = nx.Graph()\n",
    "FG.add_weighted_edges_from([(1, 2, 0.125), (1, 3, 0.75), (2, 4, 1.2), (3, 4, 0.375)])\n",
    "for n, nbrs in FG.adj.items():\n",
    "   for nbr, eattr in nbrs.items():\n",
    "       wt = eattr['weight']\n",
    "       if wt < 0.5: print(f\"({n}, {nbr}, {wt:.3})\")"
   ]
  },
  {
   "cell_type": "markdown",
   "id": "7c9bd8a5",
   "metadata": {},
   "source": [
    "Convenient access to all edges is achieved with the edges property."
   ]
  },
  {
   "cell_type": "code",
   "execution_count": 20,
   "id": "37a8d51a",
   "metadata": {
    "execution": {
     "iopub.execute_input": "2022-05-21T15:39:50.888218Z",
     "iopub.status.busy": "2022-05-21T15:39:50.887890Z",
     "iopub.status.idle": "2022-05-21T15:39:50.893692Z",
     "shell.execute_reply": "2022-05-21T15:39:50.892508Z"
    }
   },
   "outputs": [
    {
     "name": "stdout",
     "output_type": "stream",
     "text": [
      "(1, 2, 0.125)\n",
      "(3, 4, 0.375)\n"
     ]
    }
   ],
   "source": [
    "for (u, v, wt) in FG.edges.data('weight'):\n",
    "    if wt < 0.5:\n",
    "        print(f\"({u}, {v}, {wt:.3})\")"
   ]
  },
  {
   "cell_type": "markdown",
   "id": "e5b6fd34",
   "metadata": {},
   "source": [
    "# Adding attributes to graphs, nodes, and edges\n",
    "\n",
    "Attributes such as weights, labels, colors, or whatever Python object you like,\n",
    "can be attached to graphs, nodes, or edges.\n",
    "\n",
    "Each graph, node, and edge can hold key/value attribute pairs in an associated\n",
    "attribute dictionary (the keys must be hashable).  By default these are empty,\n",
    "but attributes can be added or changed using `add_edge`, `add_node` or direct\n",
    "manipulation of the attribute dictionaries named `G.graph`, `G.nodes`, and\n",
    "`G.edges` for a graph `G`.\n",
    "\n",
    "## Graph attributes\n",
    "\n",
    "Assign graph attributes when creating a new graph"
   ]
  },
  {
   "cell_type": "code",
   "execution_count": 21,
   "id": "eacc2c98",
   "metadata": {
    "execution": {
     "iopub.execute_input": "2022-05-21T15:39:50.896618Z",
     "iopub.status.busy": "2022-05-21T15:39:50.896296Z",
     "iopub.status.idle": "2022-05-21T15:39:50.902589Z",
     "shell.execute_reply": "2022-05-21T15:39:50.901696Z"
    }
   },
   "outputs": [
    {
     "data": {
      "text/plain": [
       "{'day': 'Friday'}"
      ]
     },
     "execution_count": 21,
     "metadata": {},
     "output_type": "execute_result"
    }
   ],
   "source": [
    "G = nx.Graph(day=\"Friday\")\n",
    "G.graph"
   ]
  },
  {
   "cell_type": "markdown",
   "id": "037b9576",
   "metadata": {},
   "source": [
    "Or you can modify attributes later"
   ]
  },
  {
   "cell_type": "code",
   "execution_count": 22,
   "id": "7e6632a9",
   "metadata": {
    "execution": {
     "iopub.execute_input": "2022-05-21T15:39:50.905476Z",
     "iopub.status.busy": "2022-05-21T15:39:50.905155Z",
     "iopub.status.idle": "2022-05-21T15:39:50.910998Z",
     "shell.execute_reply": "2022-05-21T15:39:50.910410Z"
    }
   },
   "outputs": [
    {
     "data": {
      "text/plain": [
       "{'day': 'Monday'}"
      ]
     },
     "execution_count": 22,
     "metadata": {},
     "output_type": "execute_result"
    }
   ],
   "source": [
    "G.graph['day'] = \"Monday\"\n",
    "G.graph"
   ]
  },
  {
   "cell_type": "markdown",
   "id": "cbb7d15c",
   "metadata": {},
   "source": [
    "# Node attributes\n",
    "\n",
    "Add node attributes using `add_node()`, `add_nodes_from()`, or `G.nodes`"
   ]
  },
  {
   "cell_type": "code",
   "execution_count": 23,
   "id": "67647cd5",
   "metadata": {
    "execution": {
     "iopub.execute_input": "2022-05-21T15:39:50.913906Z",
     "iopub.status.busy": "2022-05-21T15:39:50.913588Z",
     "iopub.status.idle": "2022-05-21T15:39:50.920661Z",
     "shell.execute_reply": "2022-05-21T15:39:50.919792Z"
    }
   },
   "outputs": [
    {
     "data": {
      "text/plain": [
       "NodeDataView({1: {'time': '5pm', 'room': 714}, 3: {'time': '2pm'}})"
      ]
     },
     "execution_count": 23,
     "metadata": {},
     "output_type": "execute_result"
    }
   ],
   "source": [
    "G.add_node(1, time='5pm')\n",
    "G.add_nodes_from([3], time='2pm')\n",
    "G.nodes[1]\n",
    "G.nodes[1]['room'] = 714\n",
    "G.nodes.data()"
   ]
  },
  {
   "cell_type": "markdown",
   "id": "84095241",
   "metadata": {},
   "source": [
    "Note that adding a node to `G.nodes` does not add it to the graph, use\n",
    "`G.add_node()` to add new nodes. Similarly for edges.\n",
    "\n",
    "# Edge Attributes\n",
    "\n",
    "Add/change edge attributes using `add_edge()`, `add_edges_from()`,\n",
    "or subscript notation."
   ]
  },
  {
   "cell_type": "code",
   "execution_count": 24,
   "id": "58f92ee6",
   "metadata": {
    "execution": {
     "iopub.execute_input": "2022-05-21T15:39:50.923358Z",
     "iopub.status.busy": "2022-05-21T15:39:50.922942Z",
     "iopub.status.idle": "2022-05-21T15:39:50.928613Z",
     "shell.execute_reply": "2022-05-21T15:39:50.927822Z"
    }
   },
   "outputs": [],
   "source": [
    "G.add_edge(1, 2, weight=4.7 )\n",
    "G.add_edges_from([(3, 4), (4, 5)], color='red')\n",
    "G.add_edges_from([(1, 2, {'color': 'blue'}), (2, 3, {'weight': 8})])\n",
    "G[1][2]['weight'] = 4.7\n",
    "G.edges[3, 4]['weight'] = 4.2"
   ]
  },
  {
   "cell_type": "markdown",
   "id": "dd0fda4d",
   "metadata": {},
   "source": [
    "The special attribute `weight` should be numeric as it is used by\n",
    "algorithms requiring weighted edges.\n",
    "\n",
    " Directed graphs\n",
    "\n",
    "The `DiGraph` class provides additional methods and properties specific\n",
    "to directed edges, e.g.,\n",
    "`DiGraph.out_edges`, `DiGraph.in_degree`,\n",
    "`DiGraph.predecessors`, `DiGraph.successors` etc.\n",
    "To allow algorithms to work with both classes easily, the directed versions of\n",
    "`neighbors` is equivalent to\n",
    "`successors` while `degree` reports the sum\n",
    "of `in_degree` and `out_degree` even though that may feel inconsistent at times."
   ]
  },
  {
   "cell_type": "code",
   "execution_count": 25,
   "id": "ac938f1d",
   "metadata": {
    "execution": {
     "iopub.execute_input": "2022-05-21T15:39:50.931477Z",
     "iopub.status.busy": "2022-05-21T15:39:50.930910Z",
     "iopub.status.idle": "2022-05-21T15:39:50.937780Z",
     "shell.execute_reply": "2022-05-21T15:39:50.937194Z"
    }
   },
   "outputs": [
    {
     "data": {
      "text/plain": [
       "[2]"
      ]
     },
     "execution_count": 25,
     "metadata": {},
     "output_type": "execute_result"
    }
   ],
   "source": [
    "DG = nx.DiGraph()\n",
    "DG.add_weighted_edges_from([(1, 2, 0.5), (3, 1, 0.75)])\n",
    "DG.out_degree(1, weight='weight')\n",
    "DG.degree(1, weight='weight')\n",
    "list(DG.successors(1))\n",
    "list(DG.neighbors(1))"
   ]
  },
  {
   "cell_type": "markdown",
   "id": "b529c920",
   "metadata": {},
   "source": [
    "Some algorithms work only for directed graphs and others are not well\n",
    "defined for directed graphs.  Indeed the tendency to lump directed\n",
    "and undirected graphs together is dangerous.  If you want to treat\n",
    "a directed graph as undirected for some measurement you should probably\n",
    "convert it using `Graph.to_undirected()` or with"
   ]
  },
  {
   "cell_type": "code",
   "execution_count": 26,
   "id": "64414a71",
   "metadata": {
    "execution": {
     "iopub.execute_input": "2022-05-21T15:39:50.940634Z",
     "iopub.status.busy": "2022-05-21T15:39:50.940310Z",
     "iopub.status.idle": "2022-05-21T15:39:50.944379Z",
     "shell.execute_reply": "2022-05-21T15:39:50.943810Z"
    }
   },
   "outputs": [],
   "source": [
    "H = nx.Graph(G)  # create an undirected graph H from a directed graph G"
   ]
  },
  {
   "cell_type": "markdown",
   "id": "14c0c2dd",
   "metadata": {},
   "source": [
    "# Multigraphs\n",
    "\n",
    "NetworkX provides classes for graphs which allow multiple edges\n",
    "between any pair of nodes.  The `MultiGraph` and\n",
    "`MultiDiGraph`\n",
    "classes allow you to add the same edge twice, possibly with different\n",
    "edge data.  This can be powerful for some applications, but many\n",
    "algorithms are not well defined on such graphs.\n",
    "Where results are well defined,\n",
    "e.g., `MultiGraph.degree()` we provide the function.  Otherwise you\n",
    "should convert to a standard graph in a way that makes the measurement\n",
    "well defined."
   ]
  },
  {
   "cell_type": "code",
   "execution_count": 27,
   "id": "a67bfd05",
   "metadata": {
    "execution": {
     "iopub.execute_input": "2022-05-21T15:39:50.947274Z",
     "iopub.status.busy": "2022-05-21T15:39:50.946957Z",
     "iopub.status.idle": "2022-05-21T15:39:50.955441Z",
     "shell.execute_reply": "2022-05-21T15:39:50.954687Z"
    }
   },
   "outputs": [
    {
     "data": {
      "text/plain": [
       "[1, 2, 3]"
      ]
     },
     "execution_count": 27,
     "metadata": {},
     "output_type": "execute_result"
    }
   ],
   "source": [
    "MG = nx.MultiGraph()\n",
    "MG.add_weighted_edges_from([(1, 2, 0.5), (1, 2, 0.75), (2, 3, 0.5)])\n",
    "dict(MG.degree(weight='weight'))\n",
    "GG = nx.Graph()\n",
    "for n, nbrs in MG.adjacency():\n",
    "   for nbr, edict in nbrs.items():\n",
    "       minvalue = min([d['weight'] for d in edict.values()])\n",
    "       GG.add_edge(n, nbr, weight = minvalue)\n",
    "\n",
    "nx.shortest_path(GG, 1, 3)"
   ]
  },
  {
   "cell_type": "markdown",
   "id": "685d8112",
   "metadata": {},
   "source": [
    "# Graph generators and graph operations\n",
    "\n",
    "In addition to constructing graphs node-by-node or edge-by-edge, they\n",
    "can also be generated by\n",
    "\n",
    "## 1. Applying classic graph operations, such as:\n",
    "\n",
    "## 2. Using a call to one of the classic small graphs, e.g.,\n",
    "\n",
    "## 3. Using a (constructive) generator for a classic graph, e.g.,\n",
    "\n",
    "like so:"
   ]
  },
  {
   "cell_type": "code",
   "execution_count": 28,
   "id": "3306063a",
   "metadata": {
    "execution": {
     "iopub.execute_input": "2022-05-21T15:39:50.959202Z",
     "iopub.status.busy": "2022-05-21T15:39:50.957965Z",
     "iopub.status.idle": "2022-05-21T15:39:50.964397Z",
     "shell.execute_reply": "2022-05-21T15:39:50.963067Z"
    }
   },
   "outputs": [],
   "source": [
    "K_5 = nx.complete_graph(5)\n",
    "K_3_5 = nx.complete_bipartite_graph(3, 5)\n",
    "barbell = nx.barbell_graph(10, 10)\n",
    "lollipop = nx.lollipop_graph(10, 20)"
   ]
  },
  {
   "cell_type": "markdown",
   "id": "14a397ef",
   "metadata": {},
   "source": [
    "# 4. Using a stochastic graph generator, e.g,\n",
    "\n",
    "like so:"
   ]
  },
  {
   "cell_type": "code",
   "execution_count": 29,
   "id": "f421d9b7",
   "metadata": {
    "execution": {
     "iopub.execute_input": "2022-05-21T15:39:50.967469Z",
     "iopub.status.busy": "2022-05-21T15:39:50.967154Z",
     "iopub.status.idle": "2022-05-21T15:39:50.990508Z",
     "shell.execute_reply": "2022-05-21T15:39:50.989390Z"
    }
   },
   "outputs": [],
   "source": [
    "er = nx.erdos_renyi_graph(100, 0.15)\n",
    "ws = nx.watts_strogatz_graph(30, 3, 0.1)\n",
    "ba = nx.barabasi_albert_graph(100, 5)\n",
    "red = nx.random_lobster(100, 0.9, 0.9)"
   ]
  },
  {
   "cell_type": "markdown",
   "id": "e8b33197",
   "metadata": {},
   "source": [
    "# 5. Reading a graph stored in a file using common graph formats\n",
    "\n",
    "NetworkX supports many popular formats, such as edge lists, adjacency lists,\n",
    "GML, GraphML, pickle, LEDA and others."
   ]
  },
  {
   "cell_type": "code",
   "execution_count": 30,
   "id": "160aa1b9",
   "metadata": {
    "execution": {
     "iopub.execute_input": "2022-05-21T15:39:50.993571Z",
     "iopub.status.busy": "2022-05-21T15:39:50.993351Z",
     "iopub.status.idle": "2022-05-21T15:39:51.800779Z",
     "shell.execute_reply": "2022-05-21T15:39:51.799635Z"
    }
   },
   "outputs": [],
   "source": [
    "nx.write_gml(red, \"path.to.file\")\n",
    "mygraph = nx.read_gml(\"path.to.file\")"
   ]
  },
  {
   "cell_type": "markdown",
   "id": "eb7e4f69",
   "metadata": {},
   "source": [
    "For details on graph formats see Reading and writing graphs\n",
    "and for graph generator functions see Graph generators\n",
    "\n",
    " Analyzing graphs\n",
    "\n",
    "The structure of `G` can be analyzed using various graph-theoretic\n",
    "functions such as:"
   ]
  },
  {
   "cell_type": "code",
   "execution_count": 31,
   "id": "e5685842",
   "metadata": {
    "execution": {
     "iopub.execute_input": "2022-05-21T15:39:51.804274Z",
     "iopub.status.busy": "2022-05-21T15:39:51.803885Z",
     "iopub.status.idle": "2022-05-21T15:39:51.812596Z",
     "shell.execute_reply": "2022-05-21T15:39:51.812017Z"
    }
   },
   "outputs": [
    {
     "data": {
      "text/plain": [
       "{1: 0, 2: 0, 3: 0, 'spam': 0}"
      ]
     },
     "execution_count": 31,
     "metadata": {},
     "output_type": "execute_result"
    }
   ],
   "source": [
    "G = nx.Graph()\n",
    "G.add_edges_from([(1, 2), (1, 3)])\n",
    "G.add_node(\"spam\")       # adds node \"spam\"\n",
    "list(nx.connected_components(G))\n",
    "sorted(d for n, d in G.degree())\n",
    "nx.clustering(G)"
   ]
  },
  {
   "cell_type": "markdown",
   "id": "3f5f9ed9",
   "metadata": {},
   "source": [
    "Some functions with large output iterate over (node, value) 2-tuples.\n",
    "These are easily stored in a [dict](https://docs.python.org/3/library/stdtypes.html#dict) structure if you desire."
   ]
  },
  {
   "cell_type": "code",
   "execution_count": 32,
   "id": "fbd9592d",
   "metadata": {
    "execution": {
     "iopub.execute_input": "2022-05-21T15:39:51.815377Z",
     "iopub.status.busy": "2022-05-21T15:39:51.814956Z",
     "iopub.status.idle": "2022-05-21T15:39:51.820144Z",
     "shell.execute_reply": "2022-05-21T15:39:51.819539Z"
    }
   },
   "outputs": [
    {
     "data": {
      "text/plain": [
       "{3: [3], 1: [3, 1], 2: [3, 1, 2]}"
      ]
     },
     "execution_count": 32,
     "metadata": {},
     "output_type": "execute_result"
    }
   ],
   "source": [
    "sp = dict(nx.all_pairs_shortest_path(G))\n",
    "sp[3]"
   ]
  },
  {
   "cell_type": "markdown",
   "id": "09cde2b3",
   "metadata": {},
   "source": [
    "See Algorithms for details on graph algorithms\n",
    "supported.\n",
    "\n",
    "# Drawing graphs\n",
    "\n",
    "NetworkX is not primarily a graph drawing package but basic drawing with\n",
    "Matplotlib as well as an interface to use the open source Graphviz software\n",
    "package are included.  These are part of the networkx.drawing\n",
    "module and will be imported if possible.\n",
    "\n",
    "First import Matplotlib’s plot interface (pylab works too)"
   ]
  },
  {
   "cell_type": "code",
   "execution_count": 33,
   "id": "f4cbabe2",
   "metadata": {
    "execution": {
     "iopub.execute_input": "2022-05-21T15:39:51.823010Z",
     "iopub.status.busy": "2022-05-21T15:39:51.822599Z",
     "iopub.status.idle": "2022-05-21T15:39:52.447509Z",
     "shell.execute_reply": "2022-05-21T15:39:52.446488Z"
    }
   },
   "outputs": [],
   "source": [
    "import matplotlib.pyplot as plt"
   ]
  },
  {
   "cell_type": "markdown",
   "id": "c8a3a730",
   "metadata": {},
   "source": [
    "To test if the import of `nx_pylab` was successful draw `G`\n",
    "using one of"
   ]
  },
  {
   "cell_type": "code",
   "execution_count": 34,
   "id": "d1365c27",
   "metadata": {
    "execution": {
     "iopub.execute_input": "2022-05-21T15:39:52.451217Z",
     "iopub.status.busy": "2022-05-21T15:39:52.450602Z",
     "iopub.status.idle": "2022-05-21T15:39:52.586742Z",
     "shell.execute_reply": "2022-05-21T15:39:52.586105Z"
    }
   },
   "outputs": [
    {
     "data": {
      "image/png": "[encoded data removed]",
      "text/plain": [
       "<Figure size 432x288 with 2 Axes>"
      ]
     },
     "metadata": {},
     "output_type": "display_data"
    }
   ],
   "source": [
    "G = nx.petersen_graph()\n",
    "subax1 = plt.subplot(121)\n",
    "nx.draw(G, with_labels=True, font_weight='bold')\n",
    "subax2 = plt.subplot(122)\n",
    "nx.draw_shell(G, nlist=[range(5, 10), range(5)], with_labels=True, font_weight='bold')"
   ]
  },
  {
   "cell_type": "markdown",
   "id": "5fdb6e49",
   "metadata": {},
   "source": [
    "when drawing to an interactive display.  Note that you may need to issue a\n",
    "Matplotlib"
   ]
  },
  {
   "cell_type": "code",
   "execution_count": 35,
   "id": "c1ca72fe",
   "metadata": {
    "execution": {
     "iopub.execute_input": "2022-05-21T15:39:52.589931Z",
     "iopub.status.busy": "2022-05-21T15:39:52.589410Z",
     "iopub.status.idle": "2022-05-21T15:39:52.592458Z",
     "shell.execute_reply": "2022-05-21T15:39:52.591981Z"
    }
   },
   "outputs": [],
   "source": [
    "plt.show()"
   ]
  },
  {
   "cell_type": "markdown",
   "id": "5e9d7778",
   "metadata": {},
   "source": [
    "command if you are not using matplotlib in interactive mode."
   ]
  },
  {
   "cell_type": "code",
   "execution_count": 36,
   "id": "d860a8aa",
   "metadata": {
    "execution": {
     "iopub.execute_input": "2022-05-21T15:39:52.595078Z",
     "iopub.status.busy": "2022-05-21T15:39:52.594663Z",
     "iopub.status.idle": "2022-05-21T15:39:52.749141Z",
     "shell.execute_reply": "2022-05-21T15:39:52.748602Z"
    }
   },
   "outputs": [
    {
     "data": {
      "image/png": "[encoded data removed]",
      "text/plain": [
       "<Figure size 432x288 with 4 Axes>"
      ]
     },
     "metadata": {},
     "output_type": "display_data"
    }
   ],
   "source": [
    "options = {\n",
    "    'node_color': 'black',\n",
    "    'node_size': 100,\n",
    "    'width': 3,\n",
    "}\n",
    "subax1 = plt.subplot(221)\n",
    "nx.draw_random(G, **options)\n",
    "subax2 = plt.subplot(222)\n",
    "nx.draw_circular(G, **options)\n",
    "subax3 = plt.subplot(223)\n",
    "nx.draw_spectral(G, **options)\n",
    "subax4 = plt.subplot(224)\n",
    "nx.draw_shell(G, nlist=[range(5,10), range(5)], **options)"
   ]
  },
  {
   "cell_type": "markdown",
   "id": "bf788063",
   "metadata": {},
   "source": [
    "You can find additional options via `draw_networkx()` and\n",
    "layouts via the `layout module`.\n",
    "You can use multiple shells with `draw_shell()`."
   ]
  },
  {
   "cell_type": "code",
   "execution_count": 37,
   "id": "4010a2c4",
   "metadata": {
    "execution": {
     "iopub.execute_input": "2022-05-21T15:39:52.752099Z",
     "iopub.status.busy": "2022-05-21T15:39:52.751673Z",
     "iopub.status.idle": "2022-05-21T15:39:52.807945Z",
     "shell.execute_reply": "2022-05-21T15:39:52.807447Z"
    }
   },
   "outputs": [
    {
     "data": {
      "image/png": "[encoded data removed]",
      "text/plain": [
       "<Figure size 432x288 with 1 Axes>"
      ]
     },
     "metadata": {},
     "output_type": "display_data"
    }
   ],
   "source": [
    "G = nx.dodecahedral_graph()\n",
    "shells = [[2, 3, 4, 5, 6], [8, 1, 0, 19, 18, 17, 16, 15, 14, 7], [9, 10, 11, 12, 13]]\n",
    "nx.draw_shell(G, nlist=shells, **options)"
   ]
  },
  {
   "cell_type": "markdown",
   "id": "0a4d8be5",
   "metadata": {},
   "source": [
    "To save drawings to a file, use, for example"
   ]
  },
  {
   "cell_type": "code",
   "execution_count": 38,
   "id": "80227052",
   "metadata": {
    "execution": {
     "iopub.execute_input": "2022-05-21T15:39:52.810774Z",
     "iopub.status.busy": "2022-05-21T15:39:52.810362Z",
     "iopub.status.idle": "2022-05-21T15:39:52.888393Z",
     "shell.execute_reply": "2022-05-21T15:39:52.887861Z"
    }
   },
   "outputs": [
    {
     "data": {
      "image/png": "[encoded data removed]",
      "text/plain": [
       "<Figure size 432x288 with 1 Axes>"
      ]
     },
     "metadata": {},
     "output_type": "display_data"
    }
   ],
   "source": [
    "nx.draw(G)\n",
    "plt.savefig(\"path.png\")"
   ]
  },
  {
   "cell_type": "markdown",
   "id": "5534b511",
   "metadata": {},
   "source": [
    "This function writes to the file `path.png` in the local directory. If Graphviz and\n",
    "PyGraphviz or pydot, are available on your system, you can also use\n",
    "`networkx.drawing.nx_agraph.graphviz_layout` or\n",
    "`networkx.drawing.nx_pydot.graphviz_layout` to get the node positions, or write\n",
    "the graph in dot format for further processing."
   ]
  },
  {
   "cell_type": "code",
   "execution_count": 39,
   "id": "f60154b6",
   "metadata": {
    "execution": {
     "iopub.execute_input": "2022-05-21T15:39:52.892119Z",
     "iopub.status.busy": "2022-05-21T15:39:52.890824Z",
     "iopub.status.idle": "2022-05-21T15:39:53.045355Z",
     "shell.execute_reply": "2022-05-21T15:39:53.044822Z"
    }
   },
   "outputs": [
    {
     "data": {
      "image/png": "[encoded data removed]",
      "text/plain": [
       "<Figure size 432x288 with 1 Axes>"
      ]
     },
     "metadata": {},
     "output_type": "display_data"
    }
   ],
   "source": [
    "from networkx.drawing.nx_pydot import write_dot\n",
    "pos = nx.nx_agraph.graphviz_layout(G)\n",
    "nx.draw(G, pos=pos)\n",
    "write_dot(G, 'file.dot')"
   ]
  },
  {
   "cell_type": "markdown",
   "id": "40eed892",
   "metadata": {},
   "source": [
    "See Drawing for additional details."
   ]
  }
 ],
 "metadata": {
  "language_info": {
   "codemirror_mode": {
    "name": "ipython",
    "version": 3
   },
   "file_extension": ".py",
   "mimetype": "text/x-python",
   "name": "python",
   "nbconvert_exporter": "python",
   "pygments_lexer": "ipython3",
   "version": "3.9.12"
  }
 },
 "nbformat": 4,
 "nbformat_minor": 5
}