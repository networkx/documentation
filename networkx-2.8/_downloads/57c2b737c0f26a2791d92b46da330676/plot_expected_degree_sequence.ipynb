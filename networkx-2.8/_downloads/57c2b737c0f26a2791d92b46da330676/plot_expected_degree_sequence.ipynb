{
  "cells": [
    {
      "cell_type": "code",
      "execution_count": null,
      "metadata": {
        "collapsed": false
      },
      "outputs": [],
      "source": [
        "%matplotlib inline"
      ]
    },
    {
      "cell_type": "markdown",
      "metadata": {},
      "source": [
        "\n# Expected Degree Sequence\n\nRandom graph from given degree sequence.\n"
      ]
    },
    {
      "cell_type": "code",
      "execution_count": null,
      "metadata": {
        "collapsed": false
      },
      "outputs": [],
      "source": [
        "import networkx as nx\n\n# make a random graph of 500 nodes with expected degrees of 50\nn = 500  # n nodes\np = 0.1\nw = [p * n for i in range(n)]  # w = p*n for all nodes\nG = nx.expected_degree_graph(w)  # configuration model\nprint(\"Degree histogram\")\nprint(\"degree (#nodes) ****\")\ndh = nx.degree_histogram(G)\nfor i, d in enumerate(dh):\n    print(f\"{i:2} ({d:2}) {'*'*d}\")"
      ]
    }
  ],
  "metadata": {
    "kernelspec": {
      "display_name": "Python 3",
      "language": "python",
      "name": "python3"
    },
    "language_info": {
      "codemirror_mode": {
        "name": "ipython",
        "version": 3
      },
      "file_extension": ".py",
      "mimetype": "text/x-python",
      "name": "python",
      "nbconvert_exporter": "python",
      "pygments_lexer": "ipython3",
      "version": "3.8.12"
    }
  },
  "nbformat": 4,
  "nbformat_minor": 0
}