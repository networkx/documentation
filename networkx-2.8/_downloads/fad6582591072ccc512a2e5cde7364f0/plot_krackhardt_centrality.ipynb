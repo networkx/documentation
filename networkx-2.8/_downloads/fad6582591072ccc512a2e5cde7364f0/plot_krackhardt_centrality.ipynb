{
  "cells": [
    {
      "cell_type": "code",
      "execution_count": null,
      "metadata": {
        "collapsed": false
      },
      "outputs": [],
      "source": [
        "%matplotlib inline"
      ]
    },
    {
      "cell_type": "markdown",
      "metadata": {},
      "source": [
        "\n# Krackhardt Centrality\n\nCentrality measures of Krackhardt social network.\n"
      ]
    },
    {
      "cell_type": "code",
      "execution_count": null,
      "metadata": {
        "collapsed": false
      },
      "outputs": [],
      "source": [
        "import matplotlib.pyplot as plt\nimport networkx as nx\n\nG = nx.krackhardt_kite_graph()\n\nprint(\"Betweenness\")\nb = nx.betweenness_centrality(G)\nfor v in G.nodes():\n    print(f\"{v:2} {b[v]:.3f}\")\n\nprint(\"Degree centrality\")\nd = nx.degree_centrality(G)\nfor v in G.nodes():\n    print(f\"{v:2} {d[v]:.3f}\")\n\nprint(\"Closeness centrality\")\nc = nx.closeness_centrality(G)\nfor v in G.nodes():\n    print(f\"{v:2} {c[v]:.3f}\")\n\npos = nx.spring_layout(G, seed=367)  # Seed layout for reproducibility\nnx.draw(G, pos)\nplt.show()"
      ]
    }
  ],
  "metadata": {
    "kernelspec": {
      "display_name": "Python 3",
      "language": "python",
      "name": "python3"
    },
    "language_info": {
      "codemirror_mode": {
        "name": "ipython",
        "version": 3
      },
      "file_extension": ".py",
      "mimetype": "text/x-python",
      "name": "python",
      "nbconvert_exporter": "python",
      "pygments_lexer": "ipython3",
      "version": "3.8.12"
    }
  },
  "nbformat": 4,
  "nbformat_minor": 0
}