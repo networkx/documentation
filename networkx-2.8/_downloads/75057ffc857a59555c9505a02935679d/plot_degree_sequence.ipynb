{
  "cells": [
    {
      "cell_type": "code",
      "execution_count": null,
      "metadata": {
        "collapsed": false
      },
      "outputs": [],
      "source": [
        "%matplotlib inline"
      ]
    },
    {
      "cell_type": "markdown",
      "metadata": {},
      "source": [
        "\n# Degree Sequence\n\nRandom graph from given degree sequence.\n"
      ]
    },
    {
      "cell_type": "code",
      "execution_count": null,
      "metadata": {
        "collapsed": false
      },
      "outputs": [],
      "source": [
        "import matplotlib.pyplot as plt\nimport networkx as nx\n\n# Specify seed for reproducibility\nseed = 668273\n\nz = [5, 3, 3, 3, 3, 2, 2, 2, 1, 1, 1]\nprint(nx.is_graphical(z))\n\nprint(\"Configuration model\")\nG = nx.configuration_model(z, seed=seed)  # configuration model, seed for reproduciblity\ndegree_sequence = [d for n, d in G.degree()]  # degree sequence\nprint(f\"Degree sequence {degree_sequence}\")\nprint(\"Degree histogram\")\nhist = {}\nfor d in degree_sequence:\n    if d in hist:\n        hist[d] += 1\n    else:\n        hist[d] = 1\nprint(\"degree #nodes\")\nfor d in hist:\n    print(f\"{d:4} {hist[d]:6}\")\n\npos = nx.spring_layout(G, seed=seed)  # Seed layout for reproducibility\nnx.draw(G, pos=pos)\nplt.show()"
      ]
    }
  ],
  "metadata": {
    "kernelspec": {
      "display_name": "Python 3",
      "language": "python",
      "name": "python3"
    },
    "language_info": {
      "codemirror_mode": {
        "name": "ipython",
        "version": 3
      },
      "file_extension": ".py",
      "mimetype": "text/x-python",
      "name": "python",
      "nbconvert_exporter": "python",
      "pygments_lexer": "ipython3",
      "version": "3.8.12"
    }
  },
  "nbformat": 4,
  "nbformat_minor": 0
}