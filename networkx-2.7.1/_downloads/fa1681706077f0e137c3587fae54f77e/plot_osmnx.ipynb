{
  "cells": [
    {
      "cell_type": "code",
      "execution_count": null,
      "metadata": {
        "collapsed": false
      },
      "outputs": [],
      "source": [
        "%matplotlib inline"
      ]
    },
    {
      "cell_type": "markdown",
      "metadata": {},
      "source": [
        "\n# OpenStreetMap with OSMnx\n\nThis example shows how to use OSMnx to download and model a street network\nfrom OpenStreetMap, visualize centrality, and save the graph as a shapefile,\na GeoPackage, or GraphML.\n\nOSMnx is a Python package to retrieve, model, analyze, and visualize\nOpenStreetMap street networks as NetworkX MultiDiGraph objects. It can also\nretrieve any other spatial data from OSM as geopandas GeoDataFrames. See\nhttps://osmnx.readthedocs.io/ for OSMnx documentation and usage.\n"
      ]
    },
    {
      "cell_type": "code",
      "execution_count": null,
      "metadata": {
        "collapsed": false
      },
      "outputs": [],
      "source": [
        "import networkx as nx\nimport osmnx as ox\n\nox.config(use_cache=True, log_console=True)\n\n# download street network data from OSM and construct a MultiDiGraph model\nG = ox.graph_from_point((37.79, -122.41), dist=750, network_type=\"drive\")\n\n# impute edge (driving) speeds and calculate edge traversal times\nG = ox.add_edge_speeds(G)\nG = ox.add_edge_travel_times(G)\n\n# you can convert MultiDiGraph to/from geopandas GeoDataFrames\ngdf_nodes, gdf_edges = ox.graph_to_gdfs(G)\nG = ox.graph_from_gdfs(gdf_nodes, gdf_edges, graph_attrs=G.graph)\n\n# convert MultiDiGraph to DiGraph to use nx.betweenness_centrality function\n# choose between parallel edges by minimizing travel_time attribute value\nD = ox.utils_graph.get_digraph(G, weight=\"travel_time\")\n\n# calculate node betweenness centrality, weighted by travel time\nbc = nx.betweenness_centrality(D, weight=\"travel_time\", normalized=True)\nnx.set_node_attributes(G, values=bc, name=\"bc\")\n\n# plot the graph, coloring nodes by betweenness centrality\nnc = ox.plot.get_node_colors_by_attr(G, \"bc\", cmap=\"plasma\")\nfig, ax = ox.plot_graph(\n    G, bgcolor=\"k\", node_color=nc, node_size=50, edge_linewidth=2, edge_color=\"#333333\"\n)\n\n# save graph to shapefile, geopackage, or graphml\nox.save_graph_shapefile(G, filepath=\"./graph_shapefile/\")\nox.save_graph_geopackage(G, filepath=\"./graph.gpkg\")\nox.save_graphml(G, filepath=\"./graph.graphml\")"
      ]
    }
  ],
  "metadata": {
    "kernelspec": {
      "display_name": "Python 3",
      "language": "python",
      "name": "python3"
    },
    "language_info": {
      "codemirror_mode": {
        "name": "ipython",
        "version": 3
      },
      "file_extension": ".py",
      "mimetype": "text/x-python",
      "name": "python",
      "nbconvert_exporter": "python",
      "pygments_lexer": "ipython3",
      "version": "3.8.12"
    }
  },
  "nbformat": 4,
  "nbformat_minor": 0
}