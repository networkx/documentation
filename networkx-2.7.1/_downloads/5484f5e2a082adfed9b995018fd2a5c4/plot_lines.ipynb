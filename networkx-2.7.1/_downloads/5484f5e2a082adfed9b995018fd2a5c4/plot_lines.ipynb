{
  "cells": [
    {
      "cell_type": "code",
      "execution_count": null,
      "metadata": {
        "collapsed": false
      },
      "outputs": [],
      "source": [
        "%matplotlib inline"
      ]
    },
    {
      "cell_type": "markdown",
      "metadata": {},
      "source": [
        "\n# Graphs from a set of lines\n\nThis example shows how to build a graph from a set of geographic lines\n(sometimes called \"linestrings\") using GeoPandas, momepy and alternatively\nPySAL. We'll plot some rivers and streets, as well as their graphs formed\nfrom the segments.\n\nThere are generally two ways of creating graph object from line geometry.\nLet's use an example of street network to illustrate both:\n\nThe first way is a so-called primal approach, where each intersection is\na node and each linestring segment connecting two intersections is an edge.\n\nThe second way is so-called dual approach, where each line is a node and\nintersection topology is turned into edges. One of the options how this is\nused for street network analysis is an angular analysis, where your routing\nis weighted via angles between street segments on intersections.\n\nWe will use GeoPandas to read spatial data and momepy to generate first\nprimal graph and then dual graph. Furthermore, we will use PySAL to\nillustrate an alternative way of creating raw dual graph.\n"
      ]
    },
    {
      "cell_type": "code",
      "execution_count": null,
      "metadata": {
        "collapsed": false
      },
      "outputs": [],
      "source": [
        "import geopandas\nimport matplotlib.pyplot as plt\nimport momepy\nimport networkx as nx\nfrom contextily import add_basemap\nfrom libpysal import weights"
      ]
    },
    {
      "cell_type": "markdown",
      "metadata": {},
      "source": [
        "Read in example river geometry from GeoJSON. Source of example data:\nhttps://doi.org/10.3390/data5010008 (Nicolas Cadieux)\n\n"
      ]
    },
    {
      "cell_type": "code",
      "execution_count": null,
      "metadata": {
        "collapsed": false
      },
      "outputs": [],
      "source": [
        "rivers = geopandas.read_file(\"rivers.geojson\")"
      ]
    },
    {
      "cell_type": "markdown",
      "metadata": {},
      "source": [
        "Construct the primal graph. momepy automatically preserves all attributes\nfrom GeoDataFrame and stores then as edge attributes.\n\n"
      ]
    },
    {
      "cell_type": "code",
      "execution_count": null,
      "metadata": {
        "collapsed": false
      },
      "outputs": [],
      "source": [
        "G = momepy.gdf_to_nx(rivers, approach=\"primal\")"
      ]
    },
    {
      "cell_type": "markdown",
      "metadata": {},
      "source": [
        "Each node is encoded by its coordinates, which allows us to use them\nin plotting.\n\n"
      ]
    },
    {
      "cell_type": "code",
      "execution_count": null,
      "metadata": {
        "collapsed": false
      },
      "outputs": [],
      "source": [
        "positions = {n: [n[0], n[1]] for n in list(G.nodes)}\n\n# Plot\nf, ax = plt.subplots(1, 2, figsize=(12, 6), sharex=True, sharey=True)\nrivers.plot(color=\"k\", ax=ax[0])\nfor i, facet in enumerate(ax):\n    facet.set_title((\"Rivers\", \"Graph\")[i])\n    facet.axis(\"off\")\nnx.draw(G, positions, ax=ax[1], node_size=5)"
      ]
    },
    {
      "cell_type": "markdown",
      "metadata": {},
      "source": [
        "Once we finish graph-based analysis, we can convert graph back\nto GeoDataFrames. momepy can return nodes as point geometry,\nedges as original line geometry and W object, which is PySAL\nspatial weights matrix encoding original graph so we can use\nit with node GeoDataFrame.\n\n"
      ]
    },
    {
      "cell_type": "code",
      "execution_count": null,
      "metadata": {
        "collapsed": false
      },
      "outputs": [],
      "source": [
        "nodes, edges, W = momepy.nx_to_gdf(G, spatial_weights=True)\n\n\n# Read in example street network from GeoPackage\nstreets = geopandas.read_file(momepy.datasets.get_path(\"bubenec\"), layer=\"streets\")\n\n# Construct the primal graph\nG_primal = momepy.gdf_to_nx(streets, approach=\"primal\")\n\n# Plot\nf, ax = plt.subplots(1, 2, figsize=(12, 6), sharex=True, sharey=True)\nstreets.plot(color=\"k\", ax=ax[0])\nfor i, facet in enumerate(ax):\n    facet.set_title((\"Streets\", \"Graph\")[i])\n    facet.axis(\"off\")\n    add_basemap(facet)\nnx.draw(\n    G_primal, {n: [n[0], n[1]] for n in list(G_primal.nodes)}, ax=ax[1], node_size=50\n)"
      ]
    },
    {
      "cell_type": "markdown",
      "metadata": {},
      "source": [
        "Construct the dual graph. momepy will store row attributes as node attributes and\nautomatically measures angle between lines.\n\n"
      ]
    },
    {
      "cell_type": "code",
      "execution_count": null,
      "metadata": {
        "collapsed": false
      },
      "outputs": [],
      "source": [
        "G_dual = momepy.gdf_to_nx(streets, approach=\"dual\")\n\n# Plot\nf, ax = plt.subplots(1, 2, figsize=(12, 6), sharex=True, sharey=True)\nstreets.plot(color=\"k\", ax=ax[0])\nfor i, facet in enumerate(ax):\n    facet.set_title((\"Streets\", \"Graph\")[i])\n    facet.axis(\"off\")\n    add_basemap(facet)\nnx.draw(G_dual, {n: [n[0], n[1]] for n in list(G_dual.nodes)}, ax=ax[1], node_size=50)\nplt.show()\n\n# Convert dual graph back to GeoDataFrame. Returns only original line geometry.\nlines = momepy.nx_to_gdf(G_dual)"
      ]
    },
    {
      "cell_type": "markdown",
      "metadata": {},
      "source": [
        "We can also construct the dual graph using PySAL. Note that it only encodes\nrelationship between geometries and do not any store attributes. However, it is\nsignificantly faster than momepy.gdf_to_nx().\nCreate PySAL weights (graph).\n\n"
      ]
    },
    {
      "cell_type": "code",
      "execution_count": null,
      "metadata": {
        "collapsed": false
      },
      "outputs": [],
      "source": [
        "W = weights.Queen.from_dataframe(streets)\n\n# Convert the graph to networkx\nG_dual = W.to_networkx()"
      ]
    }
  ],
  "metadata": {
    "kernelspec": {
      "display_name": "Python 3",
      "language": "python",
      "name": "python3"
    },
    "language_info": {
      "codemirror_mode": {
        "name": "ipython",
        "version": 3
      },
      "file_extension": ".py",
      "mimetype": "text/x-python",
      "name": "python",
      "nbconvert_exporter": "python",
      "pygments_lexer": "ipython3",
      "version": "3.8.12"
    }
  },
  "nbformat": 4,
  "nbformat_minor": 0
}