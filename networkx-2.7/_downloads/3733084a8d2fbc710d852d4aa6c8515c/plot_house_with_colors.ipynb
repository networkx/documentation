{
  "cells": [
    {
      "cell_type": "code",
      "execution_count": null,
      "metadata": {
        "collapsed": false
      },
      "outputs": [],
      "source": [
        "%matplotlib inline"
      ]
    },
    {
      "cell_type": "markdown",
      "metadata": {},
      "source": [
        "\n# House With Colors\n\nDraw a graph with matplotlib.\n"
      ]
    },
    {
      "cell_type": "code",
      "execution_count": null,
      "metadata": {
        "collapsed": false
      },
      "outputs": [],
      "source": [
        "import matplotlib.pyplot as plt\nimport networkx as nx\n\nG = nx.house_graph()\n# explicitly set positions\npos = {0: (0, 0), 1: (1, 0), 2: (0, 1), 3: (1, 1), 4: (0.5, 2.0)}\n\n# Plot nodes with different properties for the \"wall\" and \"roof\" nodes\nnx.draw_networkx_nodes(\n    G, pos, node_size=3000, nodelist=[0, 1, 2, 3], node_color=\"tab:blue\"\n)\nnx.draw_networkx_nodes(G, pos, node_size=2000, nodelist=[4], node_color=\"tab:orange\")\nnx.draw_networkx_edges(G, pos, alpha=0.5, width=6)\n# Customize axes\nax = plt.gca()\nax.margins(0.11)\nplt.tight_layout()\nplt.axis(\"off\")\nplt.show()"
      ]
    }
  ],
  "metadata": {
    "kernelspec": {
      "display_name": "Python 3",
      "language": "python",
      "name": "python3"
    },
    "language_info": {
      "codemirror_mode": {
        "name": "ipython",
        "version": 3
      },
      "file_extension": ".py",
      "mimetype": "text/x-python",
      "name": "python",
      "nbconvert_exporter": "python",
      "pygments_lexer": "ipython3",
      "version": "3.8.12"
    }
  },
  "nbformat": 4,
  "nbformat_minor": 0
}