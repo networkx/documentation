{
  "cells": [
    {
      "cell_type": "code",
      "execution_count": null,
      "metadata": {
        "collapsed": false
      },
      "outputs": [],
      "source": [
        "%matplotlib inline"
      ]
    },
    {
      "cell_type": "markdown",
      "metadata": {},
      "source": [
        "\n# Graphs from geographic points\n\nThis example shows how to build a graph from a set of points\nusing PySAL and geopandas. In this example, we'll use the famous\nset of cholera cases at the Broad Street Pump, recorded by John Snow in 1853.\nThe methods shown here can also work directly with polygonal data using their\ncentroids as representative points. \n"
      ]
    },
    {
      "cell_type": "code",
      "execution_count": null,
      "metadata": {
        "collapsed": false
      },
      "outputs": [],
      "source": [
        "from libpysal import weights, examples\nfrom contextily import add_basemap\nimport matplotlib.pyplot as plt\nimport networkx as nx\nimport numpy as np\nimport geopandas\n\n# read in example data from a geopackage file. Geopackages\n# are a format for storing geographic data that is backed\n# by sqlite. geopandas reads data relying on the fiona package,\n# providing a high-level pandas-style interface to geographic data.\ncases = geopandas.read_file(\"cholera_cases.gpkg\")\n\n# construct the array of coordinates for the centroid\ncoordinates = np.column_stack((cases.geometry.x, cases.geometry.y))\n\n# construct two different kinds of graphs:\n\n## 3-nearest neighbor graph, meaning that points are connected\n## to the three closest other points. This means every point\n## will have exactly three neighbors.\nknn3 = weights.KNN.from_dataframe(cases, k=3)\n\n## The 50-meter distance band graph will connect all pairs of points\n## that are within 50 meters from one another. This means that points\n## may have different numbers of neighbors.\ndist = weights.DistanceBand.from_array(coordinates, threshold=50)\n\n# Then, we can convert the graph to networkx object using the\n# .to_networkx() method.\nknn_graph = knn3.to_networkx()\ndist_graph = dist.to_networkx()\n\n# To plot with networkx, we need to merge the nodes back to\n# their positions in order to plot in networkx\npositions = dict(zip(knn_graph.nodes, coordinates))\n\n# plot with a nice basemap\nf, ax = plt.subplots(1, 2, figsize=(8, 4))\nfor i, facet in enumerate(ax):\n    cases.plot(marker=\".\", color=\"orangered\", ax=facet)\n    add_basemap(facet)\n    facet.set_title((\"KNN-3\", \"50-meter Distance Band\")[i])\n    facet.axis(\"off\")\nnx.draw(knn_graph, positions, ax=ax[0], node_size=5, node_color=\"b\")\nnx.draw(dist_graph, positions, ax=ax[1], node_size=5, node_color=\"b\")\nplt.show()"
      ]
    }
  ],
  "metadata": {
    "kernelspec": {
      "display_name": "Python 3",
      "language": "python",
      "name": "python3"
    },
    "language_info": {
      "codemirror_mode": {
        "name": "ipython",
        "version": 3
      },
      "file_extension": ".py",
      "mimetype": "text/x-python",
      "name": "python",
      "nbconvert_exporter": "python",
      "pygments_lexer": "ipython3",
      "version": "3.8.12"
    }
  },
  "nbformat": 4,
  "nbformat_minor": 0
}