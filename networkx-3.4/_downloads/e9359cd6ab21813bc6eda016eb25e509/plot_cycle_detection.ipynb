{
  "cells": [
    {
      "cell_type": "markdown",
      "metadata": {},
      "source": [
        "\n# Cycle Detection\n\nThis example demonstrates the use of ``nx.find_cycle`` to find a single,\narbitrary cycle in a graph.\n\nOther functions like ``nx.simple_cycles`` and ``nx.cycle_basis`` can be used to\nfind all cycles or a cycle basis.\n"
      ]
    },
    {
      "cell_type": "code",
      "execution_count": null,
      "metadata": {
        "collapsed": false
      },
      "outputs": [],
      "source": [
        "import networkx as nx\nimport matplotlib.pyplot as plt\n\n# Create a simple directed graph with a cycle\nG = nx.DiGraph([(1, 2), (2, 3), (3, 4), (4, 2), (3, 5), (3, 2), (1, 5)])\n\n# Draw the graph\npos = nx.spring_layout(G, seed=8020)\nnx.draw(G, pos, with_labels=True)\n\n# The `orientation` parameter can be used to determine how directed edges are\n# treated and the reporting of edge direction in the cycle\ncycle = nx.find_cycle(G, orientation=\"original\")\nprint(cycle)\n\n# Highlight the cycle in red\nnx.draw_networkx_edges(G, pos, edgelist=cycle, edge_color=\"r\", width=2)\nplt.show()"
      ]
    }
  ],
  "metadata": {
    "kernelspec": {
      "display_name": "Python 3",
      "language": "python",
      "name": "python3"
    },
    "language_info": {
      "codemirror_mode": {
        "name": "ipython",
        "version": 3
      },
      "file_extension": ".py",
      "mimetype": "text/x-python",
      "name": "python",
      "nbconvert_exporter": "python",
      "pygments_lexer": "ipython3",
      "version": "3.11.10"
    }
  },
  "nbformat": 4,
  "nbformat_minor": 0
}