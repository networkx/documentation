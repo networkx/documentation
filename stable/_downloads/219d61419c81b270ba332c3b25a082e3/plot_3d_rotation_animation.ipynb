{
  "cells": [
    {
      "cell_type": "markdown",
      "metadata": {},
      "source": [
        "\n# Animations of 3D rotation and random walk\nExamples of 3D plots of a graph in the 3D spectral layout with animation. \nFollowing \nhttps://sphinx-gallery.github.io/stable/auto_examples/plot_8_animations.html\nusing frame rotation of an initial plot of a graph as in \nhttps://matplotlib.org/stable/api/animation_api.html\nor complete frame redraw to plot a random walk on the graph.\n\nThe commented out line with 'plt.show()' needs to be commented back in\nin both examples when running locally.\n"
      ]
    },
    {
      "cell_type": "code",
      "execution_count": null,
      "metadata": {
        "collapsed": false
      },
      "outputs": [],
      "source": [
        "import numpy as np\nimport networkx as nx\nimport random\nimport matplotlib.pyplot as plt\nfrom matplotlib import animation"
      ]
    },
    {
      "cell_type": "markdown",
      "metadata": {},
      "source": [
        "## Define a graph to plot.\n\nPick up a graph to look good in 3D.\n\n"
      ]
    },
    {
      "cell_type": "code",
      "execution_count": null,
      "metadata": {
        "collapsed": false
      },
      "outputs": [],
      "source": [
        "G = nx.dodecahedral_graph()\npos = nx.spectral_layout(G, dim=3)\nnodes = np.array([pos[v] for v in G])\nedges = np.array([(pos[u], pos[v]) for u, v in G.edges()])"
      ]
    },
    {
      "cell_type": "markdown",
      "metadata": {},
      "source": [
        "## Rotating 3D graph animation.\n\nIn this example, a frame update is only a rotation of a given 3D graph.\n\n"
      ]
    },
    {
      "cell_type": "code",
      "execution_count": null,
      "metadata": {
        "collapsed": false
      },
      "outputs": [],
      "source": [
        "def init():\n    ax.scatter(*nodes.T, alpha=0.2, s=100, color=\"blue\")\n    for vizedge in edges:\n        ax.plot(*vizedge.T, color=\"gray\")\n    ax.grid(False)\n    ax.set_axis_off()\n    plt.tight_layout()\n    return\n\n\ndef _frame_update(index):\n    ax.view_init(index * 0.2, index * 0.5)\n    return\n\n\nfig = plt.figure()\nax = fig.add_subplot(111, projection=\"3d\")\n\nani = animation.FuncAnimation(\n    fig,\n    _frame_update,\n    init_func=init,\n    interval=50,\n    cache_frame_data=False,\n    frames=100,\n)\n# plt.show()"
      ]
    },
    {
      "cell_type": "markdown",
      "metadata": {},
      "source": [
        "## Random walk on rotating 3D graph animation.\n\nThe frame update can also draw a new plot in every frame giving the ultimate\nflexibility at the cost of performance loss.\n\n"
      ]
    },
    {
      "cell_type": "code",
      "execution_count": null,
      "metadata": {
        "collapsed": false
      },
      "outputs": [],
      "source": [
        "def _frame_update(index):\n    ax.clear()\n    ax.scatter(*nodes.T, alpha=0.2, s=100, color=\"blue\")\n    for vizedge in edges:\n        ax.plot(*vizedge.T, color=\"gray\")\n    neighbors = list(G.neighbors(node[0]))\n    if index % 5 == 0:\n        node[0] = random.choice(neighbors)\n    node0 = nodes[node[0]]\n    ax.scatter(*node0, alpha=1, marker=\"s\", color=\"red\", s=100)\n    ax.view_init(index * 0.2, index * 0.5)\n    ax.grid(False)\n    ax.set_axis_off()\n    plt.tight_layout()\n    return\n\n\nfig = plt.figure()\nax = fig.add_subplot(111, projection=\"3d\")\nax.grid(False)\nax.set_axis_off()\nplt.tight_layout()\nnode = [0]\nani = animation.FuncAnimation(\n    fig,\n    _frame_update,\n    interval=50,\n    cache_frame_data=False,\n    frames=100,\n)\n# plt.show()"
      ]
    }
  ],
  "metadata": {
    "kernelspec": {
      "display_name": "Python 3",
      "language": "python",
      "name": "python3"
    },
    "language_info": {
      "codemirror_mode": {
        "name": "ipython",
        "version": 3
      },
      "file_extension": ".py",
      "mimetype": "text/x-python",
      "name": "python",
      "nbconvert_exporter": "python",
      "pygments_lexer": "ipython3",
      "version": "3.11.8"
    }
  },
  "nbformat": 4,
  "nbformat_minor": 0
}